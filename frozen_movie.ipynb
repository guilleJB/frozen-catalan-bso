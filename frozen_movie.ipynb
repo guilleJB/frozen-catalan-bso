{
 "metadata": {
  "name": "",
  "signature": "sha256:b07d0c902e34edeefca4ff3869b6688288f7a76c0d7c263917e820d8fdee4e9c"
 },
 "nbformat": 3,
 "nbformat_minor": 0,
 "worksheets": [
  {
   "cells": [
    {
     "cell_type": "code",
     "collapsed": false,
     "input": [
      "from moviepy.editor import *\n",
      "from moviepy.video.tools.cuts import find_video_period\n",
      "from moviepy.audio.tools.cuts import find_audio_period\n",
      "\n",
      "import os\n",
      "video_path = \"/home/gjulia/Escritorio/Frozen_El_regne_del_gel_2013_BRrip_catala_english_per_HAL9000_Mecanoscrit.cat_.avi\"\n",
      "\n",
      "if not os.path.exists(video_path):\n",
      "    print \"Can't continue\"\n",
      "else:\n",
      "    clip = (VideoFileClip(video_path)\n",
      "            .subclip(('00:31:09'),('00:34:49'))\n",
      "            .crop(x1=332, x2=910, y2=686)\n",
      "            )\n",
      "    final = CompositeVideoClip([clip])\n",
      "    final.write_videofile(\"firts_part.avi\", fps=clip.fps, codec=\"mpeg4\")\n",
      "    "
     ],
     "language": "python",
     "metadata": {},
     "outputs": [
      {
       "output_type": "stream",
       "stream": "stdout",
       "text": [
        "[MoviePy] >>>> Building video firts_part.avi\n"
       ]
      },
      {
       "output_type": "stream",
       "stream": "stdout",
       "text": [
        "[MoviePy] Writing audio in firts_partTEMP_MPY_wvf_snd.mp3\n"
       ]
      },
      {
       "output_type": "stream",
       "stream": "stdout",
       "text": [
        "\r",
        "|----------| 0/5292   0% [elapsed: 00:00 left: ?, ? iters/sec]"
       ]
      },
      {
       "output_type": "stream",
       "stream": "stdout",
       "text": [
        "\r",
        "|----------| 99/5292   1% [elapsed: 00:00 left: 00:26, 197.95 iters/sec]"
       ]
      },
      {
       "output_type": "stream",
       "stream": "stdout",
       "text": [
        "\r",
        "|----------| 341/5292   6% [elapsed: 00:01 left: 00:14, 340.56 iters/sec]"
       ]
      },
      {
       "output_type": "stream",
       "stream": "stdout",
       "text": [
        "\r",
        "|#---------| 551/5292  10% [elapsed: 00:01 left: 00:13, 363.71 iters/sec]"
       ]
      },
      {
       "output_type": "stream",
       "stream": "stdout",
       "text": [
        "\r",
        "|#---------| 864/5292  16% [elapsed: 00:02 left: 00:10, 428.78 iters/sec]"
       ]
      },
      {
       "output_type": "stream",
       "stream": "stdout",
       "text": [
        "\r",
        "|##--------| 1226/5292  23% [elapsed: 00:02 left: 00:08, 487.45 iters/sec]"
       ]
      },
      {
       "output_type": "stream",
       "stream": "stdout",
       "text": [
        "\r",
        "|###-------| 1588/5292  30% [elapsed: 00:03 left: 00:07, 526.51 iters/sec]"
       ]
      },
      {
       "output_type": "stream",
       "stream": "stdout",
       "text": [
        "\r",
        "|###-------| 1957/5292  36% [elapsed: 00:03 left: 00:05, 556.56 iters/sec]"
       ]
      },
      {
       "output_type": "stream",
       "stream": "stdout",
       "text": [
        "\r",
        "|####------| 2312/5292  43% [elapsed: 00:04 left: 00:05, 574.94 iters/sec]"
       ]
      },
      {
       "output_type": "stream",
       "stream": "stdout",
       "text": [
        "\r",
        "|#####-----| 2671/5292  50% [elapsed: 00:04 left: 00:04, 590.65 iters/sec]"
       ]
      },
      {
       "output_type": "stream",
       "stream": "stdout",
       "text": [
        "\r",
        "|#####-----| 3051/5292  57% [elapsed: 00:05 left: 00:03, 606.34 iters/sec]"
       ]
      },
      {
       "output_type": "stream",
       "stream": "stdout",
       "text": [
        "\r",
        "|######----| 3414/5292  64% [elapsed: 00:05 left: 00:03, 616.98 iters/sec]"
       ]
      },
      {
       "output_type": "stream",
       "stream": "stdout",
       "text": [
        "\r",
        "|#######---| 3784/5292  71% [elapsed: 00:06 left: 00:02, 627.06 iters/sec]"
       ]
      },
      {
       "output_type": "stream",
       "stream": "stdout",
       "text": [
        "\r",
        "|#######---| 4151/5292  78% [elapsed: 00:06 left: 00:01, 634.57 iters/sec]"
       ]
      },
      {
       "output_type": "stream",
       "stream": "stdout",
       "text": [
        "\r",
        "|########--| 4542/5292  85% [elapsed: 00:07 left: 00:01, 644.85 iters/sec]"
       ]
      },
      {
       "output_type": "stream",
       "stream": "stdout",
       "text": [
        "\r",
        "|#########-| 4858/5292  91% [elapsed: 00:07 left: 00:00, 643.94 iters/sec]"
       ]
      },
      {
       "output_type": "stream",
       "stream": "stdout",
       "text": [
        "\r",
        "|#########-| 5113/5292  96% [elapsed: 00:08 left: 00:00, 635.46 iters/sec]"
       ]
      },
      {
       "output_type": "stream",
       "stream": "stdout",
       "text": [
        "\r",
        "                                                                          "
       ]
      },
      {
       "output_type": "stream",
       "stream": "stdout",
       "text": [
        "\r",
        "[MoviePy] Done.\n"
       ]
      },
      {
       "output_type": "stream",
       "stream": "stdout",
       "text": [
        "[MoviePy] Writing video firts_part.avi\n"
       ]
      },
      {
       "output_type": "stream",
       "stream": "stdout",
       "text": [
        "\r",
        "|----------| 0/5755   0% [elapsed: 00:00 left: ?, ? iters/sec]"
       ]
      },
      {
       "output_type": "stream",
       "stream": "stdout",
       "text": [
        "\r",
        "|----------| 31/5755   0% [elapsed: 00:00 left: 01:35, 60.18 iters/sec]"
       ]
      },
      {
       "output_type": "stream",
       "stream": "stdout",
       "text": [
        "\r",
        "|----------| 67/5755   1% [elapsed: 00:01 left: 01:26, 65.99 iters/sec]"
       ]
      },
      {
       "output_type": "stream",
       "stream": "stdout",
       "text": [
        "\r",
        "|----------| 115/5755   1% [elapsed: 00:01 left: 01:14, 75.80 iters/sec]"
       ]
      },
      {
       "output_type": "stream",
       "stream": "stdout",
       "text": [
        "\r",
        "|----------| 168/5755   2% [elapsed: 00:02 left: 01:07, 83.01 iters/sec]"
       ]
      },
      {
       "output_type": "stream",
       "stream": "stdout",
       "text": [
        "\r",
        "|----------| 222/5755   3% [elapsed: 00:02 left: 01:03, 87.81 iters/sec]"
       ]
      },
      {
       "output_type": "stream",
       "stream": "stdout",
       "text": [
        "\r",
        "|----------| 277/5755   4% [elapsed: 00:03 left: 01:00, 91.26 iters/sec]"
       ]
      },
      {
       "output_type": "stream",
       "stream": "stdout",
       "text": [
        "\r",
        "|----------| 330/5755   5% [elapsed: 00:03 left: 00:58, 93.09 iters/sec]"
       ]
      },
      {
       "output_type": "stream",
       "stream": "stdout",
       "text": [
        "\r",
        "|----------| 385/5755   6% [elapsed: 00:04 left: 00:56, 94.91 iters/sec]"
       ]
      },
      {
       "output_type": "stream",
       "stream": "stdout",
       "text": [
        "\r",
        "|----------| 455/5755   7% [elapsed: 00:04 left: 00:53, 99.75 iters/sec]"
       ]
      },
      {
       "output_type": "stream",
       "stream": "stdout",
       "text": [
        "\r",
        "|----------| 528/5755   9% [elapsed: 00:05 left: 00:50, 104.29 iters/sec]"
       ]
      },
      {
       "output_type": "stream",
       "stream": "stdout",
       "text": [
        "\r",
        "|#---------| 582/5755  10% [elapsed: 00:05 left: 00:49, 104.60 iters/sec]"
       ]
      },
      {
       "output_type": "stream",
       "stream": "stdout",
       "text": [
        "\r",
        "|#---------| 637/5755  11% [elapsed: 00:06 left: 00:48, 105.02 iters/sec]"
       ]
      },
      {
       "output_type": "stream",
       "stream": "stdout",
       "text": [
        "\r",
        "|#---------| 690/5755  11% [elapsed: 00:06 left: 00:48, 105.02 iters/sec]"
       ]
      },
      {
       "output_type": "stream",
       "stream": "stdout",
       "text": [
        "\r",
        "|#---------| 762/5755  13% [elapsed: 00:07 left: 00:46, 107.71 iters/sec]"
       ]
      },
      {
       "output_type": "stream",
       "stream": "stdout",
       "text": [
        "\r",
        "|#---------| 826/5755  14% [elapsed: 00:07 left: 00:45, 109.03 iters/sec]"
       ]
      },
      {
       "output_type": "stream",
       "stream": "stdout",
       "text": [
        "\r",
        "|#---------| 895/5755  15% [elapsed: 00:08 left: 00:43, 110.78 iters/sec]"
       ]
      },
      {
       "output_type": "stream",
       "stream": "stdout",
       "text": [
        "\r",
        "|#---------| 944/5755  16% [elapsed: 00:08 left: 00:43, 110.01 iters/sec]"
       ]
      },
      {
       "output_type": "stream",
       "stream": "stdout",
       "text": [
        "\r",
        "|#---------| 991/5755  17% [elapsed: 00:09 left: 00:43, 109.04 iters/sec]"
       ]
      },
      {
       "output_type": "stream",
       "stream": "stdout",
       "text": [
        "\r",
        "|#---------| 1048/5755  18% [elapsed: 00:09 left: 00:43, 109.23 iters/sec]"
       ]
      },
      {
       "output_type": "stream",
       "stream": "stdout",
       "text": [
        "\r",
        "|#---------| 1109/5755  19% [elapsed: 00:10 left: 00:42, 109.74 iters/sec]"
       ]
      },
      {
       "output_type": "stream",
       "stream": "stdout",
       "text": [
        "\r",
        "|##--------| 1163/5755  20% [elapsed: 00:10 left: 00:41, 109.64 iters/sec]"
       ]
      },
      {
       "output_type": "stream",
       "stream": "stdout",
       "text": [
        "\r",
        "|##--------| 1219/5755  21% [elapsed: 00:11 left: 00:41, 109.70 iters/sec]"
       ]
      },
      {
       "output_type": "stream",
       "stream": "stdout",
       "text": [
        "\r",
        "|##--------| 1268/5755  22% [elapsed: 00:11 left: 00:41, 109.18 iters/sec]"
       ]
      },
      {
       "output_type": "stream",
       "stream": "stdout",
       "text": [
        "\r",
        "|##--------| 1321/5755  22% [elapsed: 00:12 left: 00:40, 108.96 iters/sec]"
       ]
      },
      {
       "output_type": "stream",
       "stream": "stdout",
       "text": [
        "\r",
        "|##--------| 1373/5755  23% [elapsed: 00:12 left: 00:40, 108.75 iters/sec]"
       ]
      },
      {
       "output_type": "stream",
       "stream": "stdout",
       "text": [
        "\r",
        "|##--------| 1427/5755  24% [elapsed: 00:13 left: 00:39, 108.68 iters/sec]"
       ]
      },
      {
       "output_type": "stream",
       "stream": "stdout",
       "text": [
        "\r",
        "|##--------| 1478/5755  25% [elapsed: 00:13 left: 00:39, 108.36 iters/sec]"
       ]
      },
      {
       "output_type": "stream",
       "stream": "stdout",
       "text": [
        "\r",
        "|##--------| 1532/5755  26% [elapsed: 00:14 left: 00:38, 108.31 iters/sec]"
       ]
      },
      {
       "output_type": "stream",
       "stream": "stdout",
       "text": [
        "\r",
        "|##--------| 1584/5755  27% [elapsed: 00:14 left: 00:38, 108.11 iters/sec]"
       ]
      },
      {
       "output_type": "stream",
       "stream": "stdout",
       "text": [
        "\r",
        "|##--------| 1637/5755  28% [elapsed: 00:15 left: 00:38, 108.00 iters/sec]"
       ]
      },
      {
       "output_type": "stream",
       "stream": "stdout",
       "text": [
        "\r",
        "|##--------| 1675/5755  29% [elapsed: 00:15 left: 00:38, 106.97 iters/sec]"
       ]
      },
      {
       "output_type": "stream",
       "stream": "stdout",
       "text": [
        "\r",
        "|##--------| 1711/5755  29% [elapsed: 00:16 left: 00:38, 105.87 iters/sec]"
       ]
      },
      {
       "output_type": "stream",
       "stream": "stdout",
       "text": [
        "\r",
        "|###-------| 1759/5755  30% [elapsed: 00:16 left: 00:37, 105.55 iters/sec]"
       ]
      },
      {
       "output_type": "stream",
       "stream": "stdout",
       "text": [
        "\r",
        "|###-------| 1798/5755  31% [elapsed: 00:17 left: 00:37, 104.74 iters/sec]"
       ]
      },
      {
       "output_type": "stream",
       "stream": "stdout",
       "text": [
        "\r",
        "|###-------| 1840/5755  31% [elapsed: 00:17 left: 00:37, 104.10 iters/sec]"
       ]
      },
      {
       "output_type": "stream",
       "stream": "stdout",
       "text": [
        "\r",
        "|###-------| 1882/5755  32% [elapsed: 00:18 left: 00:37, 103.51 iters/sec]"
       ]
      },
      {
       "output_type": "stream",
       "stream": "stdout",
       "text": [
        "\r",
        "|###-------| 1938/5755  33% [elapsed: 00:18 left: 00:36, 103.74 iters/sec]"
       ]
      },
      {
       "output_type": "stream",
       "stream": "stdout",
       "text": [
        "\r",
        "|###-------| 1989/5755  34% [elapsed: 00:19 left: 00:36, 103.63 iters/sec]"
       ]
      },
      {
       "output_type": "stream",
       "stream": "stdout",
       "text": [
        "\r",
        "|###-------| 2039/5755  35% [elapsed: 00:19 left: 00:35, 103.51 iters/sec]"
       ]
      },
      {
       "output_type": "stream",
       "stream": "stdout",
       "text": [
        "\r",
        "|###-------| 2088/5755  36% [elapsed: 00:20 left: 00:35, 103.36 iters/sec]"
       ]
      },
      {
       "output_type": "stream",
       "stream": "stdout",
       "text": [
        "\r",
        "|###-------| 2138/5755  37% [elapsed: 00:20 left: 00:35, 103.24 iters/sec]"
       ]
      },
      {
       "output_type": "stream",
       "stream": "stdout",
       "text": [
        "\r",
        "|###-------| 2187/5755  38% [elapsed: 00:21 left: 00:34, 103.11 iters/sec]"
       ]
      },
      {
       "output_type": "stream",
       "stream": "stdout",
       "text": [
        "\r",
        "|###-------| 2237/5755  38% [elapsed: 00:21 left: 00:34, 103.02 iters/sec]"
       ]
      },
      {
       "output_type": "stream",
       "stream": "stdout",
       "text": [
        "\r",
        "|###-------| 2288/5755  39% [elapsed: 00:22 left: 00:33, 102.99 iters/sec]"
       ]
      },
      {
       "output_type": "stream",
       "stream": "stdout",
       "text": [
        "\r",
        "|####------| 2343/5755  40% [elapsed: 00:22 left: 00:33, 103.13 iters/sec]"
       ]
      },
      {
       "output_type": "stream",
       "stream": "stdout",
       "text": [
        "\r",
        "|####------| 2395/5755  41% [elapsed: 00:23 left: 00:32, 103.12 iters/sec]"
       ]
      },
      {
       "output_type": "stream",
       "stream": "stdout",
       "text": [
        "\r",
        "|####------| 2456/5755  42% [elapsed: 00:23 left: 00:31, 103.50 iters/sec]"
       ]
      },
      {
       "output_type": "stream",
       "stream": "stdout",
       "text": [
        "\r",
        "|####------| 2525/5755  43% [elapsed: 00:24 left: 00:31, 104.18 iters/sec]"
       ]
      },
      {
       "output_type": "stream",
       "stream": "stdout",
       "text": [
        "\r",
        "|####------| 2595/5755  45% [elapsed: 00:24 left: 00:30, 104.88 iters/sec]"
       ]
      },
      {
       "output_type": "stream",
       "stream": "stdout",
       "text": [
        "\r",
        "|####------| 2663/5755  46% [elapsed: 00:25 left: 00:29, 105.49 iters/sec]"
       ]
      },
      {
       "output_type": "stream",
       "stream": "stdout",
       "text": [
        "\r",
        "|####------| 2733/5755  47% [elapsed: 00:25 left: 00:28, 106.16 iters/sec]"
       ]
      },
      {
       "output_type": "stream",
       "stream": "stdout",
       "text": [
        "\r",
        "|####------| 2800/5755  48% [elapsed: 00:26 left: 00:27, 106.65 iters/sec]"
       ]
      },
      {
       "output_type": "stream",
       "stream": "stdout",
       "text": [
        "\r",
        "|####------| 2869/5755  49% [elapsed: 00:26 left: 00:26, 107.24 iters/sec]"
       ]
      },
      {
       "output_type": "stream",
       "stream": "stdout",
       "text": [
        "\r",
        "|#####-----| 2926/5755  50% [elapsed: 00:27 left: 00:26, 107.32 iters/sec]"
       ]
      },
      {
       "output_type": "stream",
       "stream": "stdout",
       "text": [
        "\r",
        "|#####-----| 2972/5755  51% [elapsed: 00:27 left: 00:25, 107.04 iters/sec]"
       ]
      },
      {
       "output_type": "stream",
       "stream": "stdout",
       "text": [
        "\r",
        "|#####-----| 3033/5755  52% [elapsed: 00:28 left: 00:25, 107.29 iters/sec]"
       ]
      },
      {
       "output_type": "stream",
       "stream": "stdout",
       "text": [
        "\r",
        "|#####-----| 3083/5755  53% [elapsed: 00:28 left: 00:24, 107.14 iters/sec]"
       ]
      },
      {
       "output_type": "stream",
       "stream": "stdout",
       "text": [
        "\r",
        "|#####-----| 3137/5755  54% [elapsed: 00:29 left: 00:24, 107.13 iters/sec]"
       ]
      },
      {
       "output_type": "stream",
       "stream": "stdout",
       "text": [
        "\r",
        "|#####-----| 3187/5755  55% [elapsed: 00:29 left: 00:23, 107.00 iters/sec]"
       ]
      },
      {
       "output_type": "stream",
       "stream": "stdout",
       "text": [
        "\r",
        "|#####-----| 3230/5755  56% [elapsed: 00:30 left: 00:23, 106.64 iters/sec]"
       ]
      },
      {
       "output_type": "stream",
       "stream": "stdout",
       "text": [
        "\r",
        "|#####-----| 3285/5755  57% [elapsed: 00:30 left: 00:23, 106.69 iters/sec]"
       ]
      },
      {
       "output_type": "stream",
       "stream": "stdout",
       "text": [
        "\r",
        "|#####-----| 3333/5755  57% [elapsed: 00:31 left: 00:22, 106.50 iters/sec]"
       ]
      },
      {
       "output_type": "stream",
       "stream": "stdout",
       "text": [
        "\r",
        "|#####-----| 3381/5755  58% [elapsed: 00:31 left: 00:22, 106.32 iters/sec]"
       ]
      },
      {
       "output_type": "stream",
       "stream": "stdout",
       "text": [
        "\r",
        "|#####-----| 3417/5755  59% [elapsed: 00:32 left: 00:22, 105.76 iters/sec]"
       ]
      },
      {
       "output_type": "stream",
       "stream": "stdout",
       "text": [
        "\r",
        "|######----| 3467/5755  60% [elapsed: 00:32 left: 00:21, 105.66 iters/sec]"
       ]
      },
      {
       "output_type": "stream",
       "stream": "stdout",
       "text": [
        "\r",
        "|######----| 3515/5755  61% [elapsed: 00:33 left: 00:21, 105.49 iters/sec]"
       ]
      },
      {
       "output_type": "stream",
       "stream": "stdout",
       "text": [
        "\r",
        "|######----| 3567/5755  61% [elapsed: 00:33 left: 00:20, 105.45 iters/sec]"
       ]
      },
      {
       "output_type": "stream",
       "stream": "stdout",
       "text": [
        "\r",
        "|######----| 3633/5755  63% [elapsed: 00:34 left: 00:20, 105.82 iters/sec]"
       ]
      },
      {
       "output_type": "stream",
       "stream": "stdout",
       "text": [
        "\r",
        "|######----| 3688/5755  64% [elapsed: 00:34 left: 00:19, 105.83 iters/sec]"
       ]
      },
      {
       "output_type": "stream",
       "stream": "stdout",
       "text": [
        "\r",
        "|######----| 3739/5755  64% [elapsed: 00:35 left: 00:19, 105.78 iters/sec]"
       ]
      },
      {
       "output_type": "stream",
       "stream": "stdout",
       "text": [
        "\r",
        "|######----| 3792/5755  65% [elapsed: 00:35 left: 00:18, 105.75 iters/sec]"
       ]
      },
      {
       "output_type": "stream",
       "stream": "stdout",
       "text": [
        "\r",
        "|######----| 3841/5755  66% [elapsed: 00:36 left: 00:18, 105.64 iters/sec]"
       ]
      },
      {
       "output_type": "stream",
       "stream": "stdout",
       "text": [
        "\r",
        "|######----| 3889/5755  67% [elapsed: 00:36 left: 00:17, 105.48 iters/sec]"
       ]
      },
      {
       "output_type": "stream",
       "stream": "stdout",
       "text": [
        "\r",
        "|######----| 3938/5755  68% [elapsed: 00:37 left: 00:17, 105.38 iters/sec]"
       ]
      },
      {
       "output_type": "stream",
       "stream": "stdout",
       "text": [
        "\r",
        "|######----| 3976/5755  69% [elapsed: 00:37 left: 00:16, 104.94 iters/sec]"
       ]
      },
      {
       "output_type": "stream",
       "stream": "stdout",
       "text": [
        "\r",
        "|######----| 4025/5755  69% [elapsed: 00:38 left: 00:16, 104.83 iters/sec]"
       ]
      },
      {
       "output_type": "stream",
       "stream": "stdout",
       "text": [
        "\r",
        "|#######---| 4090/5755  71% [elapsed: 00:38 left: 00:15, 105.14 iters/sec]"
       ]
      },
      {
       "output_type": "stream",
       "stream": "stdout",
       "text": [
        "\r",
        "|#######---| 4157/5755  72% [elapsed: 00:39 left: 00:15, 105.50 iters/sec]"
       ]
      },
      {
       "output_type": "stream",
       "stream": "stdout",
       "text": [
        "\r",
        "|#######---| 4228/5755  73% [elapsed: 00:39 left: 00:14, 105.94 iters/sec]"
       ]
      },
      {
       "output_type": "stream",
       "stream": "stdout",
       "text": [
        "\r",
        "|#######---| 4287/5755  74% [elapsed: 00:40 left: 00:13, 106.08 iters/sec]"
       ]
      },
      {
       "output_type": "stream",
       "stream": "stdout",
       "text": [
        "\r",
        "|#######---| 4355/5755  75% [elapsed: 00:40 left: 00:13, 106.43 iters/sec]"
       ]
      },
      {
       "output_type": "stream",
       "stream": "stdout",
       "text": [
        "\r",
        "|#######---| 4413/5755  76% [elapsed: 00:41 left: 00:12, 106.54 iters/sec]"
       ]
      },
      {
       "output_type": "stream",
       "stream": "stdout",
       "text": [
        "\r",
        "|#######---| 4468/5755  77% [elapsed: 00:41 left: 00:12, 106.57 iters/sec]"
       ]
      },
      {
       "output_type": "stream",
       "stream": "stdout",
       "text": [
        "\r",
        "|#######---| 4527/5755  78% [elapsed: 00:42 left: 00:11, 106.68 iters/sec]"
       ]
      },
      {
       "output_type": "stream",
       "stream": "stdout",
       "text": [
        "\r",
        "|#######---| 4588/5755  79% [elapsed: 00:42 left: 00:10, 106.85 iters/sec]"
       ]
      },
      {
       "output_type": "stream",
       "stream": "stdout",
       "text": [
        "\r",
        "|########--| 4646/5755  80% [elapsed: 00:43 left: 00:10, 106.96 iters/sec]"
       ]
      },
      {
       "output_type": "stream",
       "stream": "stdout",
       "text": [
        "\r",
        "|########--| 4705/5755  81% [elapsed: 00:43 left: 00:09, 107.07 iters/sec]"
       ]
      },
      {
       "output_type": "stream",
       "stream": "stdout",
       "text": [
        "\r",
        "|########--| 4754/5755  82% [elapsed: 00:44 left: 00:09, 106.96 iters/sec]"
       ]
      },
      {
       "output_type": "stream",
       "stream": "stdout",
       "text": [
        "\r",
        "|########--| 4809/5755  83% [elapsed: 00:44 left: 00:08, 106.96 iters/sec]"
       ]
      },
      {
       "output_type": "stream",
       "stream": "stdout",
       "text": [
        "\r",
        "|########--| 4877/5755  84% [elapsed: 00:45 left: 00:08, 107.26 iters/sec]"
       ]
      },
      {
       "output_type": "stream",
       "stream": "stdout",
       "text": [
        "\r",
        "|########--| 4944/5755  85% [elapsed: 00:45 left: 00:07, 107.55 iters/sec]"
       ]
      },
      {
       "output_type": "stream",
       "stream": "stdout",
       "text": [
        "\r",
        "|########--| 5012/5755  87% [elapsed: 00:46 left: 00:06, 107.85 iters/sec]"
       ]
      },
      {
       "output_type": "stream",
       "stream": "stdout",
       "text": [
        "\r",
        "|########--| 5082/5755  88% [elapsed: 00:46 left: 00:06, 108.19 iters/sec]"
       ]
      },
      {
       "output_type": "stream",
       "stream": "stdout",
       "text": [
        "\r",
        "|########--| 5148/5755  89% [elapsed: 00:47 left: 00:05, 108.43 iters/sec]"
       ]
      },
      {
       "output_type": "stream",
       "stream": "stdout",
       "text": [
        "\r",
        "|#########-| 5219/5755  90% [elapsed: 00:47 left: 00:04, 108.78 iters/sec]"
       ]
      },
      {
       "output_type": "stream",
       "stream": "stdout",
       "text": [
        "\r",
        "|#########-| 5288/5755  91% [elapsed: 00:48 left: 00:04, 109.08 iters/sec]"
       ]
      },
      {
       "output_type": "stream",
       "stream": "stdout",
       "text": [
        "\r",
        "|#########-| 5356/5755  93% [elapsed: 00:48 left: 00:03, 109.35 iters/sec]"
       ]
      },
      {
       "output_type": "stream",
       "stream": "stdout",
       "text": [
        "\r",
        "|#########-| 5426/5755  94% [elapsed: 00:49 left: 00:03, 109.66 iters/sec]"
       ]
      },
      {
       "output_type": "stream",
       "stream": "stdout",
       "text": [
        "\r",
        "|#########-| 5496/5755  95% [elapsed: 00:49 left: 00:02, 109.95 iters/sec]"
       ]
      },
      {
       "output_type": "stream",
       "stream": "stdout",
       "text": [
        "\r",
        "|#########-| 5550/5755  96% [elapsed: 00:50 left: 00:01, 109.92 iters/sec]"
       ]
      },
      {
       "output_type": "stream",
       "stream": "stdout",
       "text": [
        "\r",
        "|#########-| 5604/5755  97% [elapsed: 00:50 left: 00:01, 109.89 iters/sec]"
       ]
      },
      {
       "output_type": "stream",
       "stream": "stdout",
       "text": [
        "\r",
        "|#########-| 5657/5755  98% [elapsed: 00:51 left: 00:00, 109.84 iters/sec]"
       ]
      },
      {
       "output_type": "stream",
       "stream": "stdout",
       "text": [
        "\r",
        "|#########-| 5711/5755  99% [elapsed: 00:52 left: 00:00, 109.82 iters/sec]"
       ]
      },
      {
       "output_type": "stream",
       "stream": "stdout",
       "text": [
        "\r",
        "                                                                          "
       ]
      },
      {
       "output_type": "stream",
       "stream": "stdout",
       "text": [
        "\r",
        "[MoviePy] Done.\n"
       ]
      },
      {
       "output_type": "stream",
       "stream": "stdout",
       "text": [
        "[MoviePy] >>>> Video ready: firts_part.avi \n",
        "\n"
       ]
      }
     ],
     "prompt_number": 12
    },
    {
     "cell_type": "code",
     "collapsed": false,
     "input": [
      "from moviepy.editor import *\n",
      "from moviepy.video.tools.cuts import find_video_period\n",
      "from moviepy.audio.tools.cuts import find_audio_period\n",
      "\n",
      "import os\n",
      "video_path = \"/home/gjulia/Escritorio/Frozen_El_regne_del_gel_2013_BRrip_catala_english_per_HAL9000_Mecanoscrit.cat_.avi\"\n",
      "songs_times = \"./songs_times.txt\"\n",
      "if not os.path.exists(video_path) and not os.path.exists(songs_times):\n",
      "    print \"Can't continue\"\n",
      "else:\n",
      "    with open(songs_times) as f:\n",
      "        for idx, time in enumerate(f.readlines()):\n",
      "            print idx, time\n",
      "            start, end = time.strip().split('-')\n",
      "            print '#' + start + '#', '#' + end + '#'\n",
      "            print '%02d.mp3' % (idx+1)\n",
      "            audio_clip = (AudioFileClip(video_path)\n",
      "                          .subclip(str(start),str(end))\n",
      "                          )\n",
      "            audio_clip.write_audiofile('%02d.mp3' % (idx+1))"
     ],
     "language": "python",
     "metadata": {},
     "outputs": [
      {
       "output_type": "stream",
       "stream": "stdout",
       "text": [
        "0 00:01:46-00:03:23\n",
        "\n",
        "#00:01:46# #00:03:23#\n",
        "01.mp3\n",
        "[MoviePy] Writing audio in 01.mp3\n"
       ]
      },
      {
       "output_type": "stream",
       "stream": "stdout",
       "text": [
        "\r",
        "|----------| 0/2139   0% [elapsed: 00:00 left: ?, ? iters/sec]"
       ]
      },
      {
       "output_type": "stream",
       "stream": "stdout",
       "text": [
        "\r",
        "|----------| 116/2139   5% [elapsed: 00:00 left: 00:08, 230.30 iters/sec]"
       ]
      },
      {
       "output_type": "stream",
       "stream": "stdout",
       "text": [
        "\r",
        "|#---------| 401/2139  18% [elapsed: 00:01 left: 00:04, 396.77 iters/sec]"
       ]
      },
      {
       "output_type": "stream",
       "stream": "stdout",
       "text": [
        "\r",
        "|###-------| 693/2139  32% [elapsed: 00:01 left: 00:03, 458.25 iters/sec]"
       ]
      },
      {
       "output_type": "stream",
       "stream": "stdout",
       "text": [
        "\r",
        "|#####-----| 1100/2139  51% [elapsed: 00:02 left: 00:01, 546.37 iters/sec]"
       ]
      },
      {
       "output_type": "stream",
       "stream": "stdout",
       "text": [
        "\r",
        "|######----| 1429/2139  66% [elapsed: 00:02 left: 00:01, 568.33 iters/sec]"
       ]
      },
      {
       "output_type": "stream",
       "stream": "stdout",
       "text": [
        "\r",
        "|########--| 1716/2139  80% [elapsed: 00:03 left: 00:00, 568.68 iters/sec]"
       ]
      },
      {
       "output_type": "stream",
       "stream": "stdout",
       "text": [
        "\r",
        "|#########-| 2001/2139  93% [elapsed: 00:03 left: 00:00, 567.99 iters/sec]"
       ]
      },
      {
       "output_type": "stream",
       "stream": "stdout",
       "text": [
        "\r",
        "                                                                          "
       ]
      },
      {
       "output_type": "stream",
       "stream": "stdout",
       "text": [
        "\r",
        "[MoviePy] Done.\n"
       ]
      },
      {
       "output_type": "stream",
       "stream": "stdout",
       "text": [
        "1 00:08:08-00:11:28\n",
        "\n",
        "#00:08:08# #00:11:28#\n",
        "02.mp3\n",
        "[MoviePy] Writing audio in 02.mp3\n"
       ]
      },
      {
       "output_type": "stream",
       "stream": "stdout",
       "text": [
        "\r",
        "|----------| 0/4410   0% [elapsed: 00:00 left: ?, ? iters/sec]"
       ]
      },
      {
       "output_type": "stream",
       "stream": "stdout",
       "text": [
        "\r",
        "|----------| 108/4410   2% [elapsed: 00:00 left: 00:19, 215.23 iters/sec]"
       ]
      },
      {
       "output_type": "stream",
       "stream": "stdout",
       "text": [
        "\r",
        "|----------| 375/4410   8% [elapsed: 00:01 left: 00:10, 374.07 iters/sec]"
       ]
      },
      {
       "output_type": "stream",
       "stream": "stdout",
       "text": [
        "\r",
        "|#---------| 600/4410  13% [elapsed: 00:01 left: 00:09, 398.42 iters/sec]"
       ]
      },
      {
       "output_type": "stream",
       "stream": "stdout",
       "text": [
        "\r",
        "|#---------| 851/4410  19% [elapsed: 00:02 left: 00:08, 422.16 iters/sec]"
       ]
      },
      {
       "output_type": "stream",
       "stream": "stdout",
       "text": [
        "\r",
        "|##--------| 1146/4410  25% [elapsed: 00:02 left: 00:07, 455.47 iters/sec]"
       ]
      },
      {
       "output_type": "stream",
       "stream": "stdout",
       "text": [
        "\r",
        "|###-------| 1427/4410  32% [elapsed: 00:03 left: 00:06, 472.67 iters/sec]"
       ]
      },
      {
       "output_type": "stream",
       "stream": "stdout",
       "text": [
        "\r",
        "|###-------| 1714/4410  38% [elapsed: 00:03 left: 00:05, 486.75 iters/sec]"
       ]
      },
      {
       "output_type": "stream",
       "stream": "stdout",
       "text": [
        "\r",
        "|####------| 1998/4410  45% [elapsed: 00:04 left: 00:04, 496.84 iters/sec]"
       ]
      },
      {
       "output_type": "stream",
       "stream": "stdout",
       "text": [
        "\r",
        "|#####-----| 2272/4410  51% [elapsed: 00:04 left: 00:04, 502.28 iters/sec]"
       ]
      },
      {
       "output_type": "stream",
       "stream": "stdout",
       "text": [
        "\r",
        "|#####-----| 2535/4410  57% [elapsed: 00:05 left: 00:03, 504.39 iters/sec]"
       ]
      },
      {
       "output_type": "stream",
       "stream": "stdout",
       "text": [
        "\r",
        "|######----| 2768/4410  62% [elapsed: 00:05 left: 00:03, 500.87 iters/sec]"
       ]
      },
      {
       "output_type": "stream",
       "stream": "stdout",
       "text": [
        "\r",
        "|######----| 3040/4410  68% [elapsed: 00:06 left: 00:02, 504.17 iters/sec]"
       ]
      },
      {
       "output_type": "stream",
       "stream": "stdout",
       "text": [
        "\r",
        "|#######---| 3294/4410  74% [elapsed: 00:06 left: 00:02, 504.37 iters/sec]"
       ]
      },
      {
       "output_type": "stream",
       "stream": "stdout",
       "text": [
        "\r",
        "|########--| 3561/4410  80% [elapsed: 00:07 left: 00:01, 506.33 iters/sec]"
       ]
      },
      {
       "output_type": "stream",
       "stream": "stdout",
       "text": [
        "\r",
        "|########--| 3851/4410  87% [elapsed: 00:07 left: 00:01, 509.92 iters/sec]"
       ]
      },
      {
       "output_type": "stream",
       "stream": "stdout",
       "text": [
        "\r",
        "|#########-| 4134/4410  93% [elapsed: 00:08 left: 00:00, 513.27 iters/sec]"
       ]
      },
      {
       "output_type": "stream",
       "stream": "stdout",
       "text": [
        "\r",
        "|#########-| 4392/4410  99% [elapsed: 00:08 left: 00:00, 513.17 iters/sec]"
       ]
      },
      {
       "output_type": "stream",
       "stream": "stdout",
       "text": [
        "\r",
        "                                                                          "
       ]
      },
      {
       "output_type": "stream",
       "stream": "stdout",
       "text": [
        "\r",
        "[MoviePy] Done.\n"
       ]
      },
      {
       "output_type": "stream",
       "stream": "stdout",
       "text": [
        "2 00:31:09-00:34:49\n",
        "\n",
        "#00:31:09# #00:34:49#\n",
        "03.mp3\n",
        "[MoviePy] Writing audio in 03.mp3\n"
       ]
      },
      {
       "output_type": "stream",
       "stream": "stdout",
       "text": [
        "\r",
        "|----------| 0/4851   0% [elapsed: 00:00 left: ?, ? iters/sec]"
       ]
      },
      {
       "output_type": "stream",
       "stream": "stdout",
       "text": [
        "\r",
        "|----------| 125/4851   2% [elapsed: 00:00 left: 00:19, 248.21 iters/sec]"
       ]
      },
      {
       "output_type": "stream",
       "stream": "stdout",
       "text": [
        "\r",
        "|----------| 401/4851   8% [elapsed: 00:01 left: 00:11, 391.41 iters/sec]"
       ]
      },
      {
       "output_type": "stream",
       "stream": "stdout",
       "text": [
        "\r",
        "|#---------| 682/4851  14% [elapsed: 00:01 left: 00:09, 447.27 iters/sec]"
       ]
      },
      {
       "output_type": "stream",
       "stream": "stdout",
       "text": [
        "\r",
        "|##--------| 980/4851  20% [elapsed: 00:02 left: 00:08, 483.64 iters/sec]"
       ]
      },
      {
       "output_type": "stream",
       "stream": "stdout",
       "text": [
        "\r",
        "|##--------| 1251/4851  25% [elapsed: 00:02 left: 00:07, 490.77 iters/sec]"
       ]
      },
      {
       "output_type": "stream",
       "stream": "stdout",
       "text": [
        "\r",
        "|###-------| 1548/4851  31% [elapsed: 00:03 left: 00:06, 507.46 iters/sec]"
       ]
      },
      {
       "output_type": "stream",
       "stream": "stdout",
       "text": [
        "\r",
        "|###-------| 1827/4851  37% [elapsed: 00:03 left: 00:05, 513.75 iters/sec]"
       ]
      },
      {
       "output_type": "stream",
       "stream": "stdout",
       "text": [
        "\r",
        "|####------| 2101/4851  43% [elapsed: 00:04 left: 00:05, 517.97 iters/sec]"
       ]
      },
      {
       "output_type": "stream",
       "stream": "stdout",
       "text": [
        "\r",
        "|####------| 2395/4851  49% [elapsed: 00:04 left: 00:04, 525.22 iters/sec]"
       ]
      },
      {
       "output_type": "stream",
       "stream": "stdout",
       "text": [
        "\r",
        "|#####-----| 2687/4851  55% [elapsed: 00:05 left: 00:04, 530.59 iters/sec]"
       ]
      },
      {
       "output_type": "stream",
       "stream": "stdout",
       "text": [
        "\r",
        "|######----| 2971/4851  61% [elapsed: 00:05 left: 00:03, 533.63 iters/sec]"
       ]
      },
      {
       "output_type": "stream",
       "stream": "stdout",
       "text": [
        "\r",
        "|######----| 3275/4851  67% [elapsed: 00:06 left: 00:02, 539.67 iters/sec]"
       ]
      },
      {
       "output_type": "stream",
       "stream": "stdout",
       "text": [
        "\r",
        "|#######---| 3678/4851  75% [elapsed: 00:06 left: 00:02, 559.93 iters/sec]"
       ]
      },
      {
       "output_type": "stream",
       "stream": "stdout",
       "text": [
        "\r",
        "|########--| 4077/4851  84% [elapsed: 00:07 left: 00:01, 576.75 iters/sec]"
       ]
      },
      {
       "output_type": "stream",
       "stream": "stdout",
       "text": [
        "\r",
        "|#########-| 4485/4851  92% [elapsed: 00:07 left: 00:00, 592.55 iters/sec]"
       ]
      },
      {
       "output_type": "stream",
       "stream": "stdout",
       "text": [
        "\r",
        "                                                                          "
       ]
      },
      {
       "output_type": "stream",
       "stream": "stdout",
       "text": [
        "\r",
        "[MoviePy] Done.\n"
       ]
      },
      {
       "output_type": "stream",
       "stream": "stdout",
       "text": [
        "3 01:05:43-01:08:32\n",
        "\n",
        "#01:05:43# #01:08:32#\n",
        "04.mp3\n",
        "[MoviePy] Writing audio in 04.mp3\n"
       ]
      },
      {
       "output_type": "stream",
       "stream": "stdout",
       "text": [
        "\r",
        "|----------| 0/3727   0% [elapsed: 00:00 left: ?, ? iters/sec]"
       ]
      },
      {
       "output_type": "stream",
       "stream": "stdout",
       "text": [
        "\r",
        "|----------| 184/3727   4% [elapsed: 00:00 left: 00:09, 365.51 iters/sec]"
       ]
      },
      {
       "output_type": "stream",
       "stream": "stdout",
       "text": [
        "\r",
        "|#---------| 576/3727  15% [elapsed: 00:01 left: 00:05, 572.35 iters/sec]"
       ]
      },
      {
       "output_type": "stream",
       "stream": "stdout",
       "text": [
        "\r",
        "|##--------| 976/3727  26% [elapsed: 00:01 left: 00:04, 646.20 iters/sec]"
       ]
      },
      {
       "output_type": "stream",
       "stream": "stdout",
       "text": [
        "\r",
        "|###-------| 1382/3727  37% [elapsed: 00:02 left: 00:03, 686.81 iters/sec]"
       ]
      },
      {
       "output_type": "stream",
       "stream": "stdout",
       "text": [
        "\r",
        "|####------| 1763/3727  47% [elapsed: 00:02 left: 00:02, 700.56 iters/sec]"
       ]
      },
      {
       "output_type": "stream",
       "stream": "stdout",
       "text": [
        "\r",
        "|#####-----| 2125/3727  57% [elapsed: 00:03 left: 00:02, 703.98 iters/sec]"
       ]
      },
      {
       "output_type": "stream",
       "stream": "stdout",
       "text": [
        "\r",
        "|######----| 2524/3727  67% [elapsed: 00:03 left: 00:01, 717.29 iters/sec]"
       ]
      },
      {
       "output_type": "stream",
       "stream": "stdout",
       "text": [
        "\r",
        "|#######---| 2925/3727  78% [elapsed: 00:04 left: 00:01, 727.52 iters/sec]"
       ]
      },
      {
       "output_type": "stream",
       "stream": "stdout",
       "text": [
        "\r",
        "|########--| 3338/3727  89% [elapsed: 00:04 left: 00:00, 738.19 iters/sec]"
       ]
      },
      {
       "output_type": "stream",
       "stream": "stdout",
       "text": [
        "\r",
        "                                                                          "
       ]
      },
      {
       "output_type": "stream",
       "stream": "stdout",
       "text": [
        "\r",
        "[MoviePy] Done.\n"
       ]
      },
      {
       "output_type": "stream",
       "stream": "stdout",
       "text": [
        "4 01:28:00-01:28:45\n",
        "\n",
        "#01:28:00# #01:28:45#\n",
        "05.mp3\n",
        "[MoviePy] Writing audio in 05.mp3\n"
       ]
      },
      {
       "output_type": "stream",
       "stream": "stdout",
       "text": [
        "\r",
        "|----------| 0/993   0% [elapsed: 00:00 left: ?, ? iters/sec]"
       ]
      },
      {
       "output_type": "stream",
       "stream": "stdout",
       "text": [
        "\r",
        "|#---------| 181/993  18% [elapsed: 00:00 left: 00:02, 362.00 iters/sec]"
       ]
      },
      {
       "output_type": "stream",
       "stream": "stdout",
       "text": [
        "\r",
        "|#####-----| 568/993  57% [elapsed: 00:01 left: 00:00, 566.39 iters/sec]"
       ]
      },
      {
       "output_type": "stream",
       "stream": "stdout",
       "text": [
        "\r",
        "|#########-| 930/993  93% [elapsed: 00:01 left: 00:00, 618.03 iters/sec]"
       ]
      },
      {
       "output_type": "stream",
       "stream": "stdout",
       "text": [
        "\r",
        "                                                                        "
       ]
      },
      {
       "output_type": "stream",
       "stream": "stdout",
       "text": [
        "\r",
        "[MoviePy] Done.\n"
       ]
      }
     ],
     "prompt_number": 36
    },
    {
     "cell_type": "code",
     "collapsed": false,
     "input": [
      "#Extract all audio from movie\n",
      "from moviepy.editor import *\n",
      "from moviepy.video.tools.cuts import find_video_period\n",
      "from moviepy.audio.tools.cuts import find_audio_period\n",
      "\n",
      "import os\n",
      "video_path = \"/home/gjulia/Escritorio/Frozen_El_regne_del_gel_2013_BRrip_catala_english_per_HAL9000_Mecanoscrit.cat_.avi\"\n",
      "songs_times = \"./songs_times.txt\"\n",
      "if not os.path.exists(video_path) and not os.path.exists(songs_times):\n",
      "    print \"Can't continue\"\n",
      "else:\n",
      "    if not os.path.exists('frozen.mp3'):\n",
      "        audio_clip = (AudioFileClip(video_path))\n",
      "        audio_clip.write_audiofile('frozen.mp3')"
     ],
     "language": "python",
     "metadata": {},
     "outputs": [
      {
       "output_type": "stream",
       "stream": "stdout",
       "text": [
        "[MoviePy] Writing audio in frozen.mp3\n"
       ]
      },
      {
       "output_type": "stream",
       "stream": "stdout",
       "text": [
        "\r",
        "|----------| 0/135226   0% [elapsed: 00:00 left: ?, ? iters/sec]"
       ]
      },
      {
       "output_type": "stream",
       "stream": "stdout",
       "text": [
        "\r",
        "|----------| 400/135226   0% [elapsed: 00:00 left: 02:49, 797.39 iters/sec]"
       ]
      },
      {
       "output_type": "stream",
       "stream": "stdout",
       "text": [
        "\r",
        "|----------| 736/135226   0% [elapsed: 00:01 left: 03:03, 731.93 iters/sec]"
       ]
      },
      {
       "output_type": "stream",
       "stream": "stdout",
       "text": [
        "\r",
        "|----------| 1066/135226   0% [elapsed: 00:01 left: 03:09, 707.37 iters/sec]"
       ]
      },
      {
       "output_type": "stream",
       "stream": "stdout",
       "text": [
        "\r",
        "|----------| 1401/135226   1% [elapsed: 00:02 left: 03:12, 695.32 iters/sec]"
       ]
      },
      {
       "output_type": "stream",
       "stream": "stdout",
       "text": [
        "\r",
        "|----------| 1721/135226   1% [elapsed: 00:02 left: 03:15, 683.77 iters/sec]"
       ]
      },
      {
       "output_type": "stream",
       "stream": "stdout",
       "text": [
        "\r",
        "|----------| 1985/135226   1% [elapsed: 00:03 left: 03:22, 657.91 iters/sec]"
       ]
      },
      {
       "output_type": "stream",
       "stream": "stdout",
       "text": [
        "\r",
        "|----------| 2211/135226   1% [elapsed: 00:03 left: 03:31, 627.59 iters/sec]"
       ]
      },
      {
       "output_type": "stream",
       "stream": "stdout",
       "text": [
        "\r",
        "|----------| 2445/135226   1% [elapsed: 00:04 left: 03:38, 607.62 iters/sec]"
       ]
      },
      {
       "output_type": "stream",
       "stream": "stdout",
       "text": [
        "\r",
        "|----------| 2717/135226   2% [elapsed: 00:04 left: 03:40, 600.13 iters/sec]"
       ]
      },
      {
       "output_type": "stream",
       "stream": "stdout",
       "text": [
        "\r",
        "|----------| 2951/135226   2% [elapsed: 00:05 left: 03:46, 585.23 iters/sec]"
       ]
      },
      {
       "output_type": "stream",
       "stream": "stdout",
       "text": [
        "\r",
        "|----------| 3225/135226   2% [elapsed: 00:05 left: 03:46, 581.86 iters/sec]"
       ]
      },
      {
       "output_type": "stream",
       "stream": "stdout",
       "text": [
        "\r",
        "|----------| 3509/135226   2% [elapsed: 00:06 left: 03:46, 580.61 iters/sec]"
       ]
      },
      {
       "output_type": "stream",
       "stream": "stdout",
       "text": [
        "\r",
        "|----------| 3834/135226   2% [elapsed: 00:06 left: 03:44, 585.86 iters/sec]"
       ]
      },
      {
       "output_type": "stream",
       "stream": "stdout",
       "text": [
        "\r",
        "|----------| 4188/135226   3% [elapsed: 00:07 left: 03:40, 594.31 iters/sec]"
       ]
      },
      {
       "output_type": "stream",
       "stream": "stdout",
       "text": [
        "\r",
        "|----------| 4551/135226   3% [elapsed: 00:07 left: 03:37, 601.78 iters/sec]"
       ]
      },
      {
       "output_type": "stream",
       "stream": "stdout",
       "text": [
        "\r",
        "|----------| 4881/135226   3% [elapsed: 00:08 left: 03:35, 605.11 iters/sec]"
       ]
      },
      {
       "output_type": "stream",
       "stream": "stdout",
       "text": [
        "\r",
        "|----------| 5264/135226   3% [elapsed: 00:08 left: 03:31, 614.38 iters/sec]"
       ]
      },
      {
       "output_type": "stream",
       "stream": "stdout",
       "text": [
        "\r",
        "|----------| 5639/135226   4% [elapsed: 00:09 left: 03:28, 621.65 iters/sec]"
       ]
      },
      {
       "output_type": "stream",
       "stream": "stdout",
       "text": [
        "\r",
        "|----------| 6048/135226   4% [elapsed: 00:09 left: 03:24, 631.87 iters/sec]"
       ]
      },
      {
       "output_type": "stream",
       "stream": "stdout",
       "text": [
        "\r",
        "|----------| 6432/135226   4% [elapsed: 00:10 left: 03:21, 638.58 iters/sec]"
       ]
      },
      {
       "output_type": "stream",
       "stream": "stdout",
       "text": [
        "\r",
        "|----------| 6794/135226   5% [elapsed: 00:10 left: 03:19, 642.61 iters/sec]"
       ]
      },
      {
       "output_type": "stream",
       "stream": "stdout",
       "text": [
        "\r",
        "|----------| 7051/135226   5% [elapsed: 00:11 left: 03:21, 635.61 iters/sec]"
       ]
      },
      {
       "output_type": "stream",
       "stream": "stdout",
       "text": [
        "\r",
        "|----------| 7299/135226   5% [elapsed: 00:11 left: 03:23, 629.31 iters/sec]"
       ]
      },
      {
       "output_type": "stream",
       "stream": "stdout",
       "text": [
        "\r",
        "|----------| 7551/135226   5% [elapsed: 00:12 left: 03:24, 623.46 iters/sec]"
       ]
      },
      {
       "output_type": "stream",
       "stream": "stdout",
       "text": [
        "\r",
        "|----------| 7822/135226   5% [elapsed: 00:12 left: 03:25, 620.02 iters/sec]"
       ]
      },
      {
       "output_type": "stream",
       "stream": "stdout",
       "text": [
        "\r",
        "|----------| 8101/135226   5% [elapsed: 00:13 left: 03:26, 617.07 iters/sec]"
       ]
      },
      {
       "output_type": "stream",
       "stream": "stdout",
       "text": [
        "\r",
        "|----------| 8401/135226   6% [elapsed: 00:13 left: 03:25, 615.76 iters/sec]"
       ]
      },
      {
       "output_type": "stream",
       "stream": "stdout",
       "text": [
        "\r",
        "|----------| 8693/135226   6% [elapsed: 00:14 left: 03:25, 614.52 iters/sec]"
       ]
      },
      {
       "output_type": "stream",
       "stream": "stdout",
       "text": [
        "\r",
        "|----------| 8991/135226   6% [elapsed: 00:14 left: 03:25, 613.69 iters/sec]"
       ]
      },
      {
       "output_type": "stream",
       "stream": "stdout",
       "text": [
        "\r",
        "|----------| 9371/135226   6% [elapsed: 00:15 left: 03:23, 618.50 iters/sec]"
       ]
      },
      {
       "output_type": "stream",
       "stream": "stdout",
       "text": [
        "\r",
        "|----------| 9777/135226   7% [elapsed: 00:15 left: 03:20, 624.67 iters/sec]"
       ]
      },
      {
       "output_type": "stream",
       "stream": "stdout",
       "text": [
        "\r",
        "|----------| 10176/135226   7% [elapsed: 00:16 left: 03:18, 629.97 iters/sec]"
       ]
      },
      {
       "output_type": "stream",
       "stream": "stdout",
       "text": [
        "\r",
        "|----------| 10568/135226   7% [elapsed: 00:16 left: 03:16, 634.56 iters/sec]"
       ]
      },
      {
       "output_type": "stream",
       "stream": "stdout",
       "text": [
        "\r",
        "|----------| 10923/135226   8% [elapsed: 00:17 left: 03:15, 636.72 iters/sec]"
       ]
      },
      {
       "output_type": "stream",
       "stream": "stdout",
       "text": [
        "\r",
        "|----------| 11193/135226   8% [elapsed: 00:17 left: 03:15, 633.81 iters/sec]"
       ]
      },
      {
       "output_type": "stream",
       "stream": "stdout",
       "text": [
        "\r",
        "|----------| 11457/135226   8% [elapsed: 00:18 left: 03:16, 630.85 iters/sec]"
       ]
      },
      {
       "output_type": "stream",
       "stream": "stdout",
       "text": [
        "\r",
        "|----------| 11724/135226   8% [elapsed: 00:18 left: 03:16, 628.17 iters/sec]"
       ]
      },
      {
       "output_type": "stream",
       "stream": "stdout",
       "text": [
        "\r",
        "|----------| 11999/135226   8% [elapsed: 00:19 left: 03:16, 626.08 iters/sec]"
       ]
      },
      {
       "output_type": "stream",
       "stream": "stdout",
       "text": [
        "\r",
        "|----------| 12376/135226   9% [elapsed: 00:19 left: 03:15, 629.27 iters/sec]"
       ]
      },
      {
       "output_type": "stream",
       "stream": "stdout",
       "text": [
        "\r",
        "|----------| 12722/135226   9% [elapsed: 00:20 left: 03:14, 630.79 iters/sec]"
       ]
      },
      {
       "output_type": "stream",
       "stream": "stdout",
       "text": [
        "\r",
        "|----------| 13096/135226   9% [elapsed: 00:20 left: 03:12, 633.61 iters/sec]"
       ]
      },
      {
       "output_type": "stream",
       "stream": "stdout",
       "text": [
        "\r",
        "|----------| 13451/135226   9% [elapsed: 00:21 left: 03:11, 635.21 iters/sec]"
       ]
      },
      {
       "output_type": "stream",
       "stream": "stdout",
       "text": [
        "\r",
        "|#---------| 13820/135226  10% [elapsed: 00:21 left: 03:10, 637.57 iters/sec]"
       ]
      },
      {
       "output_type": "stream",
       "stream": "stdout",
       "text": [
        "\r",
        "|#---------| 14151/135226  10% [elapsed: 00:22 left: 03:09, 638.06 iters/sec]"
       ]
      },
      {
       "output_type": "stream",
       "stream": "stdout",
       "text": [
        "\r",
        "|#---------| 14542/135226  10% [elapsed: 00:22 left: 03:08, 641.17 iters/sec]"
       ]
      },
      {
       "output_type": "stream",
       "stream": "stdout",
       "text": [
        "\r",
        "|#---------| 14918/135226  11% [elapsed: 00:23 left: 03:06, 643.51 iters/sec]"
       ]
      },
      {
       "output_type": "stream",
       "stream": "stdout",
       "text": [
        "\r",
        "|#---------| 15251/135226  11% [elapsed: 00:23 left: 03:06, 643.80 iters/sec]"
       ]
      },
      {
       "output_type": "stream",
       "stream": "stdout",
       "text": [
        "\r",
        "|#---------| 15551/135226  11% [elapsed: 00:24 left: 03:06, 642.65 iters/sec]"
       ]
      },
      {
       "output_type": "stream",
       "stream": "stdout",
       "text": [
        "\r",
        "|#---------| 15832/135226  11% [elapsed: 00:24 left: 03:06, 641.01 iters/sec]"
       ]
      },
      {
       "output_type": "stream",
       "stream": "stdout",
       "text": [
        "\r",
        "|#---------| 16101/135226  11% [elapsed: 00:25 left: 03:06, 638.93 iters/sec]"
       ]
      },
      {
       "output_type": "stream",
       "stream": "stdout",
       "text": [
        "\r",
        "|#---------| 16401/135226  12% [elapsed: 00:25 left: 03:06, 637.82 iters/sec]"
       ]
      },
      {
       "output_type": "stream",
       "stream": "stdout",
       "text": [
        "\r",
        "|#---------| 16710/135226  12% [elapsed: 00:26 left: 03:05, 637.44 iters/sec]"
       ]
      },
      {
       "output_type": "stream",
       "stream": "stdout",
       "text": [
        "\r",
        "|#---------| 17101/135226  12% [elapsed: 00:26 left: 03:04, 639.86 iters/sec]"
       ]
      },
      {
       "output_type": "stream",
       "stream": "stdout",
       "text": [
        "\r",
        "|#---------| 17499/135226  12% [elapsed: 00:27 left: 03:03, 642.73 iters/sec]"
       ]
      },
      {
       "output_type": "stream",
       "stream": "stdout",
       "text": [
        "\r",
        "|#---------| 17896/135226  13% [elapsed: 00:27 left: 03:01, 645.44 iters/sec]"
       ]
      },
      {
       "output_type": "stream",
       "stream": "stdout",
       "text": [
        "\r",
        "|#---------| 18288/135226  13% [elapsed: 00:28 left: 03:00, 647.87 iters/sec]"
       ]
      },
      {
       "output_type": "stream",
       "stream": "stdout",
       "text": [
        "\r",
        "|#---------| 18684/135226  13% [elapsed: 00:28 left: 02:59, 650.34 iters/sec]"
       ]
      },
      {
       "output_type": "stream",
       "stream": "stdout",
       "text": [
        "\r",
        "|#---------| 19065/135226  14% [elapsed: 00:29 left: 02:58, 652.21 iters/sec]"
       ]
      },
      {
       "output_type": "stream",
       "stream": "stdout",
       "text": [
        "\r",
        "|#---------| 19464/135226  14% [elapsed: 00:29 left: 02:56, 654.66 iters/sec]"
       ]
      },
      {
       "output_type": "stream",
       "stream": "stdout",
       "text": [
        "\r",
        "|#---------| 19757/135226  14% [elapsed: 00:30 left: 02:56, 653.52 iters/sec]"
       ]
      },
      {
       "output_type": "stream",
       "stream": "stdout",
       "text": [
        "\r",
        "|#---------| 20044/135226  14% [elapsed: 00:30 left: 02:56, 652.22 iters/sec]"
       ]
      },
      {
       "output_type": "stream",
       "stream": "stdout",
       "text": [
        "\r",
        "|#---------| 20322/135226  15% [elapsed: 00:31 left: 02:56, 650.68 iters/sec]"
       ]
      },
      {
       "output_type": "stream",
       "stream": "stdout",
       "text": [
        "\r",
        "|#---------| 20634/135226  15% [elapsed: 00:31 left: 02:56, 650.09 iters/sec]"
       ]
      },
      {
       "output_type": "stream",
       "stream": "stdout",
       "text": [
        "\r",
        "|#---------| 21001/135226  15% [elapsed: 00:32 left: 02:55, 651.38 iters/sec]"
       ]
      },
      {
       "output_type": "stream",
       "stream": "stdout",
       "text": [
        "\r",
        "|#---------| 21396/135226  15% [elapsed: 00:32 left: 02:54, 653.48 iters/sec]"
       ]
      },
      {
       "output_type": "stream",
       "stream": "stdout",
       "text": [
        "\r",
        "|#---------| 21786/135226  16% [elapsed: 00:33 left: 02:53, 655.35 iters/sec]"
       ]
      },
      {
       "output_type": "stream",
       "stream": "stdout",
       "text": [
        "\r",
        "|#---------| 22181/135226  16% [elapsed: 00:33 left: 02:51, 657.34 iters/sec]"
       ]
      },
      {
       "output_type": "stream",
       "stream": "stdout",
       "text": [
        "\r",
        "|#---------| 22574/135226  16% [elapsed: 00:34 left: 02:50, 659.16 iters/sec]"
       ]
      },
      {
       "output_type": "stream",
       "stream": "stdout",
       "text": [
        "\r",
        "|#---------| 22972/135226  16% [elapsed: 00:34 left: 02:49, 661.08 iters/sec]"
       ]
      },
      {
       "output_type": "stream",
       "stream": "stdout",
       "text": [
        "\r",
        "|#---------| 23364/135226  17% [elapsed: 00:35 left: 02:48, 662.81 iters/sec]"
       ]
      },
      {
       "output_type": "stream",
       "stream": "stdout",
       "text": [
        "\r",
        "|#---------| 23770/135226  17% [elapsed: 00:35 left: 02:47, 664.86 iters/sec]"
       ]
      },
      {
       "output_type": "stream",
       "stream": "stdout",
       "text": [
        "\r",
        "|#---------| 24151/135226  17% [elapsed: 00:36 left: 02:46, 666.03 iters/sec]"
       ]
      },
      {
       "output_type": "stream",
       "stream": "stdout",
       "text": [
        "\r",
        "|#---------| 24550/135226  18% [elapsed: 00:36 left: 02:45, 667.72 iters/sec]"
       ]
      },
      {
       "output_type": "stream",
       "stream": "stdout",
       "text": [
        "\r",
        "|#---------| 24890/135226  18% [elapsed: 00:37 left: 02:45, 667.81 iters/sec]"
       ]
      },
      {
       "output_type": "stream",
       "stream": "stdout",
       "text": [
        "\r",
        "|#---------| 25140/135226  18% [elapsed: 00:37 left: 02:45, 665.58 iters/sec]"
       ]
      },
      {
       "output_type": "stream",
       "stream": "stdout",
       "text": [
        "\r",
        "|#---------| 25399/135226  18% [elapsed: 00:38 left: 02:45, 663.62 iters/sec]"
       ]
      },
      {
       "output_type": "stream",
       "stream": "stdout",
       "text": [
        "\r",
        "|#---------| 25730/135226  19% [elapsed: 00:38 left: 02:45, 663.52 iters/sec]"
       ]
      },
      {
       "output_type": "stream",
       "stream": "stdout",
       "text": [
        "\r",
        "|#---------| 26116/135226  19% [elapsed: 00:39 left: 02:44, 664.85 iters/sec]"
       ]
      },
      {
       "output_type": "stream",
       "stream": "stdout",
       "text": [
        "\r",
        "|#---------| 26498/135226  19% [elapsed: 00:39 left: 02:43, 666.09 iters/sec]"
       ]
      },
      {
       "output_type": "stream",
       "stream": "stdout",
       "text": [
        "\r",
        "|#---------| 26870/135226  19% [elapsed: 00:40 left: 02:42, 667.06 iters/sec]"
       ]
      },
      {
       "output_type": "stream",
       "stream": "stdout",
       "text": [
        "\r",
        "|##--------| 27251/135226  20% [elapsed: 00:40 left: 02:41, 668.01 iters/sec]"
       ]
      },
      {
       "output_type": "stream",
       "stream": "stdout",
       "text": [
        "\r",
        "|##--------| 27651/135226  20% [elapsed: 00:41 left: 02:40, 669.45 iters/sec]"
       ]
      },
      {
       "output_type": "stream",
       "stream": "stdout",
       "text": [
        "\r",
        "|##--------| 28051/135226  20% [elapsed: 00:41 left: 02:39, 670.84 iters/sec]"
       ]
      },
      {
       "output_type": "stream",
       "stream": "stdout",
       "text": [
        "\r",
        "|##--------| 28450/135226  21% [elapsed: 00:42 left: 02:38, 672.34 iters/sec]"
       ]
      },
      {
       "output_type": "stream",
       "stream": "stdout",
       "text": [
        "\r",
        "|##--------| 28851/135226  21% [elapsed: 00:42 left: 02:37, 673.62 iters/sec]"
       ]
      },
      {
       "output_type": "stream",
       "stream": "stdout",
       "text": [
        "\r",
        "|##--------| 29251/135226  21% [elapsed: 00:43 left: 02:37, 674.85 iters/sec]"
       ]
      },
      {
       "output_type": "stream",
       "stream": "stdout",
       "text": [
        "\r",
        "|##--------| 29643/135226  21% [elapsed: 00:43 left: 02:36, 676.05 iters/sec]"
       ]
      },
      {
       "output_type": "stream",
       "stream": "stdout",
       "text": [
        "\r",
        "|##--------| 29982/135226  22% [elapsed: 00:44 left: 02:35, 676.07 iters/sec]"
       ]
      },
      {
       "output_type": "stream",
       "stream": "stdout",
       "text": [
        "\r",
        "|##--------| 30251/135226  22% [elapsed: 00:44 left: 02:35, 674.46 iters/sec]"
       ]
      },
      {
       "output_type": "stream",
       "stream": "stdout",
       "text": [
        "\r",
        "|##--------| 30520/135226  22% [elapsed: 00:45 left: 02:35, 672.92 iters/sec]"
       ]
      },
      {
       "output_type": "stream",
       "stream": "stdout",
       "text": [
        "\r",
        "|##--------| 30832/135226  22% [elapsed: 00:45 left: 02:35, 672.37 iters/sec]"
       ]
      },
      {
       "output_type": "stream",
       "stream": "stdout",
       "text": [
        "\r",
        "|##--------| 31222/135226  23% [elapsed: 00:46 left: 02:34, 673.48 iters/sec]"
       ]
      },
      {
       "output_type": "stream",
       "stream": "stdout",
       "text": [
        "\r",
        "|##--------| 31600/135226  23% [elapsed: 00:46 left: 02:33, 674.34 iters/sec]"
       ]
      },
      {
       "output_type": "stream",
       "stream": "stdout",
       "text": [
        "\r",
        "|##--------| 31988/135226  23% [elapsed: 00:47 left: 02:32, 675.37 iters/sec]"
       ]
      },
      {
       "output_type": "stream",
       "stream": "stdout",
       "text": [
        "\r",
        "|##--------| 32394/135226  23% [elapsed: 00:47 left: 02:31, 676.79 iters/sec]"
       ]
      },
      {
       "output_type": "stream",
       "stream": "stdout",
       "text": [
        "\r",
        "|##--------| 32758/135226  24% [elapsed: 00:48 left: 02:31, 677.32 iters/sec]"
       ]
      },
      {
       "output_type": "stream",
       "stream": "stdout",
       "text": [
        "\r",
        "|##--------| 33151/135226  24% [elapsed: 00:48 left: 02:30, 678.41 iters/sec]"
       ]
      },
      {
       "output_type": "stream",
       "stream": "stdout",
       "text": [
        "\r",
        "|##--------| 33551/135226  24% [elapsed: 00:49 left: 02:29, 679.55 iters/sec]"
       ]
      },
      {
       "output_type": "stream",
       "stream": "stdout",
       "text": [
        "\r",
        "|##--------| 33917/135226  25% [elapsed: 00:49 left: 02:28, 680.07 iters/sec]"
       ]
      },
      {
       "output_type": "stream",
       "stream": "stdout",
       "text": [
        "\r",
        "|##--------| 34194/135226  25% [elapsed: 00:50 left: 02:28, 678.77 iters/sec]"
       ]
      },
      {
       "output_type": "stream",
       "stream": "stdout",
       "text": [
        "\r",
        "|##--------| 34501/135226  25% [elapsed: 00:50 left: 02:28, 677.94 iters/sec]"
       ]
      },
      {
       "output_type": "stream",
       "stream": "stdout",
       "text": [
        "\r",
        "|##--------| 34770/135226  25% [elapsed: 00:51 left: 02:28, 676.57 iters/sec]"
       ]
      },
      {
       "output_type": "stream",
       "stream": "stdout",
       "text": [
        "\r",
        "|##--------| 35051/135226  25% [elapsed: 00:51 left: 02:28, 675.20 iters/sec]"
       ]
      },
      {
       "output_type": "stream",
       "stream": "stdout",
       "text": [
        "\r",
        "|##--------| 35386/135226  26% [elapsed: 00:52 left: 02:27, 675.15 iters/sec]"
       ]
      },
      {
       "output_type": "stream",
       "stream": "stdout",
       "text": [
        "\r",
        "|##--------| 35764/135226  26% [elapsed: 00:52 left: 02:27, 675.90 iters/sec]"
       ]
      },
      {
       "output_type": "stream",
       "stream": "stdout",
       "text": [
        "\r",
        "|##--------| 36134/135226  26% [elapsed: 00:53 left: 02:26, 676.48 iters/sec]"
       ]
      },
      {
       "output_type": "stream",
       "stream": "stdout",
       "text": [
        "\r",
        "|##--------| 36501/135226  26% [elapsed: 00:53 left: 02:25, 676.81 iters/sec]"
       ]
      },
      {
       "output_type": "stream",
       "stream": "stdout",
       "text": [
        "\r",
        "|##--------| 36777/135226  27% [elapsed: 00:54 left: 02:25, 675.61 iters/sec]"
       ]
      },
      {
       "output_type": "stream",
       "stream": "stdout",
       "text": [
        "\r",
        "|##--------| 37059/135226  27% [elapsed: 00:54 left: 02:25, 674.57 iters/sec]"
       ]
      },
      {
       "output_type": "stream",
       "stream": "stdout",
       "text": [
        "\r",
        "|##--------| 37351/135226  27% [elapsed: 00:55 left: 02:25, 673.60 iters/sec]"
       ]
      },
      {
       "output_type": "stream",
       "stream": "stdout",
       "text": [
        "\r",
        "|##--------| 37663/135226  27% [elapsed: 00:55 left: 02:24, 673.11 iters/sec]"
       ]
      },
      {
       "output_type": "stream",
       "stream": "stdout",
       "text": [
        "\r",
        "|##--------| 37951/135226  28% [elapsed: 00:56 left: 02:24, 671.98 iters/sec]"
       ]
      },
      {
       "output_type": "stream",
       "stream": "stdout",
       "text": [
        "\r",
        "|##--------| 38248/135226  28% [elapsed: 00:56 left: 02:24, 671.26 iters/sec]"
       ]
      },
      {
       "output_type": "stream",
       "stream": "stdout",
       "text": [
        "\r",
        "|##--------| 38541/135226  28% [elapsed: 00:57 left: 02:24, 670.52 iters/sec]"
       ]
      },
      {
       "output_type": "stream",
       "stream": "stdout",
       "text": [
        "\r",
        "|##--------| 38811/135226  28% [elapsed: 00:57 left: 02:24, 669.35 iters/sec]"
       ]
      },
      {
       "output_type": "stream",
       "stream": "stdout",
       "text": [
        "\r",
        "|##--------| 39129/135226  28% [elapsed: 00:58 left: 02:23, 669.07 iters/sec]"
       ]
      },
      {
       "output_type": "stream",
       "stream": "stdout",
       "text": [
        "\r",
        "|##--------| 39524/135226  29% [elapsed: 00:58 left: 02:22, 670.01 iters/sec]"
       ]
      },
      {
       "output_type": "stream",
       "stream": "stdout",
       "text": [
        "\r",
        "|##--------| 39798/135226  29% [elapsed: 00:59 left: 02:22, 668.96 iters/sec]"
       ]
      },
      {
       "output_type": "stream",
       "stream": "stdout",
       "text": [
        "\r",
        "|##--------| 40069/135226  29% [elapsed: 00:59 left: 02:22, 667.89 iters/sec]"
       ]
      },
      {
       "output_type": "stream",
       "stream": "stdout",
       "text": [
        "\r",
        "|##--------| 40365/135226  29% [elapsed: 01:00 left: 02:22, 667.26 iters/sec]"
       ]
      },
      {
       "output_type": "stream",
       "stream": "stdout",
       "text": [
        "\r",
        "|###-------| 40649/135226  30% [elapsed: 01:00 left: 02:21, 666.39 iters/sec]"
       ]
      },
      {
       "output_type": "stream",
       "stream": "stdout",
       "text": [
        "\r",
        "|###-------| 40910/135226  30% [elapsed: 01:01 left: 02:21, 665.20 iters/sec]"
       ]
      },
      {
       "output_type": "stream",
       "stream": "stdout",
       "text": [
        "\r",
        "|###-------| 41201/135226  30% [elapsed: 01:02 left: 02:21, 664.32 iters/sec]"
       ]
      },
      {
       "output_type": "stream",
       "stream": "stdout",
       "text": [
        "\r",
        "|###-------| 41471/135226  30% [elapsed: 01:02 left: 02:21, 663.28 iters/sec]"
       ]
      },
      {
       "output_type": "stream",
       "stream": "stdout",
       "text": [
        "\r",
        "|###-------| 41780/135226  30% [elapsed: 01:03 left: 02:20, 662.87 iters/sec]"
       ]
      },
      {
       "output_type": "stream",
       "stream": "stdout",
       "text": [
        "\r",
        "|###-------| 42051/135226  31% [elapsed: 01:03 left: 02:20, 661.76 iters/sec]"
       ]
      },
      {
       "output_type": "stream",
       "stream": "stdout",
       "text": [
        "\r",
        "|###-------| 42327/135226  31% [elapsed: 01:04 left: 02:20, 660.87 iters/sec]"
       ]
      },
      {
       "output_type": "stream",
       "stream": "stdout",
       "text": [
        "\r",
        "|###-------| 42601/135226  31% [elapsed: 01:04 left: 02:20, 659.98 iters/sec]"
       ]
      },
      {
       "output_type": "stream",
       "stream": "stdout",
       "text": [
        "\r",
        "|###-------| 42894/135226  31% [elapsed: 01:05 left: 02:20, 659.41 iters/sec]"
       ]
      },
      {
       "output_type": "stream",
       "stream": "stdout",
       "text": [
        "\r",
        "|###-------| 43174/135226  31% [elapsed: 01:05 left: 02:19, 658.63 iters/sec]"
       ]
      },
      {
       "output_type": "stream",
       "stream": "stdout",
       "text": [
        "\r",
        "|###-------| 43459/135226  32% [elapsed: 01:06 left: 02:19, 657.96 iters/sec]"
       ]
      },
      {
       "output_type": "stream",
       "stream": "stdout",
       "text": [
        "\r",
        "|###-------| 43749/135226  32% [elapsed: 01:06 left: 02:19, 657.36 iters/sec]"
       ]
      },
      {
       "output_type": "stream",
       "stream": "stdout",
       "text": [
        "\r",
        "|###-------| 44026/135226  32% [elapsed: 01:07 left: 02:18, 656.55 iters/sec]"
       ]
      },
      {
       "output_type": "stream",
       "stream": "stdout",
       "text": [
        "\r",
        "|###-------| 44301/135226  32% [elapsed: 01:07 left: 02:18, 655.72 iters/sec]"
       ]
      },
      {
       "output_type": "stream",
       "stream": "stdout",
       "text": [
        "\r",
        "|###-------| 44551/135226  32% [elapsed: 01:08 left: 02:18, 654.46 iters/sec]"
       ]
      },
      {
       "output_type": "stream",
       "stream": "stdout",
       "text": [
        "\r",
        "|###-------| 44845/135226  33% [elapsed: 01:08 left: 02:18, 653.96 iters/sec]"
       ]
      },
      {
       "output_type": "stream",
       "stream": "stdout",
       "text": [
        "\r",
        "|###-------| 45143/135226  33% [elapsed: 01:09 left: 02:17, 653.49 iters/sec]"
       ]
      },
      {
       "output_type": "stream",
       "stream": "stdout",
       "text": [
        "\r",
        "|###-------| 45429/135226  33% [elapsed: 01:09 left: 02:17, 652.89 iters/sec]"
       ]
      },
      {
       "output_type": "stream",
       "stream": "stdout",
       "text": [
        "\r",
        "|###-------| 45720/135226  33% [elapsed: 01:10 left: 02:17, 652.37 iters/sec]"
       ]
      },
      {
       "output_type": "stream",
       "stream": "stdout",
       "text": [
        "\r",
        "|###-------| 46001/135226  34% [elapsed: 01:10 left: 02:16, 651.72 iters/sec]"
       ]
      },
      {
       "output_type": "stream",
       "stream": "stdout",
       "text": [
        "\r",
        "|###-------| 46289/135226  34% [elapsed: 01:11 left: 02:16, 651.15 iters/sec]"
       ]
      },
      {
       "output_type": "stream",
       "stream": "stdout",
       "text": [
        "\r",
        "|###-------| 46575/135226  34% [elapsed: 01:11 left: 02:16, 650.59 iters/sec]"
       ]
      },
      {
       "output_type": "stream",
       "stream": "stdout",
       "text": [
        "\r",
        "|###-------| 46883/135226  34% [elapsed: 01:12 left: 02:15, 650.32 iters/sec]"
       ]
      },
      {
       "output_type": "stream",
       "stream": "stdout",
       "text": [
        "\r",
        "|###-------| 47181/135226  34% [elapsed: 01:12 left: 02:15, 649.92 iters/sec]"
       ]
      },
      {
       "output_type": "stream",
       "stream": "stdout",
       "text": [
        "\r",
        "|###-------| 47480/135226  35% [elapsed: 01:13 left: 02:15, 649.56 iters/sec]"
       ]
      },
      {
       "output_type": "stream",
       "stream": "stdout",
       "text": [
        "\r",
        "|###-------| 47770/135226  35% [elapsed: 01:13 left: 02:14, 649.08 iters/sec]"
       ]
      },
      {
       "output_type": "stream",
       "stream": "stdout",
       "text": [
        "\r",
        "|###-------| 48068/135226  35% [elapsed: 01:14 left: 02:14, 648.71 iters/sec]"
       ]
      },
      {
       "output_type": "stream",
       "stream": "stdout",
       "text": [
        "\r",
        "|###-------| 48351/135226  35% [elapsed: 01:14 left: 02:14, 648.11 iters/sec]"
       ]
      },
      {
       "output_type": "stream",
       "stream": "stdout",
       "text": [
        "\r",
        "|###-------| 48651/135226  35% [elapsed: 01:15 left: 02:13, 647.67 iters/sec]"
       ]
      },
      {
       "output_type": "stream",
       "stream": "stdout",
       "text": [
        "\r",
        "|###-------| 48951/135226  36% [elapsed: 01:15 left: 02:13, 647.27 iters/sec]"
       ]
      },
      {
       "output_type": "stream",
       "stream": "stdout",
       "text": [
        "\r",
        "|###-------| 49240/135226  36% [elapsed: 01:16 left: 02:12, 646.79 iters/sec]"
       ]
      },
      {
       "output_type": "stream",
       "stream": "stdout",
       "text": [
        "\r",
        "|###-------| 49525/135226  36% [elapsed: 01:16 left: 02:12, 646.25 iters/sec]"
       ]
      },
      {
       "output_type": "stream",
       "stream": "stdout",
       "text": [
        "\r",
        "|###-------| 49801/135226  36% [elapsed: 01:17 left: 02:12, 645.53 iters/sec]"
       ]
      },
      {
       "output_type": "stream",
       "stream": "stdout",
       "text": [
        "\r",
        "|###-------| 50059/135226  37% [elapsed: 01:17 left: 02:12, 644.68 iters/sec]"
       ]
      },
      {
       "output_type": "stream",
       "stream": "stdout",
       "text": [
        "\r",
        "|###-------| 50295/135226  37% [elapsed: 01:18 left: 02:11, 643.54 iters/sec]"
       ]
      },
      {
       "output_type": "stream",
       "stream": "stdout",
       "text": [
        "\r",
        "|###-------| 50533/135226  37% [elapsed: 01:18 left: 02:11, 642.36 iters/sec]"
       ]
      },
      {
       "output_type": "stream",
       "stream": "stdout",
       "text": [
        "\r",
        "|###-------| 50767/135226  37% [elapsed: 01:19 left: 02:11, 641.24 iters/sec]"
       ]
      },
      {
       "output_type": "stream",
       "stream": "stdout",
       "text": [
        "\r",
        "|###-------| 51017/135226  37% [elapsed: 01:19 left: 02:11, 640.32 iters/sec]"
       ]
      },
      {
       "output_type": "stream",
       "stream": "stdout",
       "text": [
        "\r",
        "|###-------| 51265/135226  37% [elapsed: 01:20 left: 02:11, 639.42 iters/sec]"
       ]
      },
      {
       "output_type": "stream",
       "stream": "stdout",
       "text": [
        "\r",
        "|###-------| 51522/135226  38% [elapsed: 01:20 left: 02:11, 638.64 iters/sec]"
       ]
      },
      {
       "output_type": "stream",
       "stream": "stdout",
       "text": [
        "\r",
        "|###-------| 51795/135226  38% [elapsed: 01:21 left: 02:10, 638.04 iters/sec]"
       ]
      },
      {
       "output_type": "stream",
       "stream": "stdout",
       "text": [
        "\r",
        "|###-------| 52058/135226  38% [elapsed: 01:21 left: 02:10, 637.33 iters/sec]"
       ]
      },
      {
       "output_type": "stream",
       "stream": "stdout",
       "text": [
        "\r",
        "|###-------| 52332/135226  38% [elapsed: 01:22 left: 02:10, 636.78 iters/sec]"
       ]
      },
      {
       "output_type": "stream",
       "stream": "stdout",
       "text": [
        "\r",
        "|###-------| 52629/135226  38% [elapsed: 01:22 left: 02:09, 636.51 iters/sec]"
       ]
      },
      {
       "output_type": "stream",
       "stream": "stdout",
       "text": [
        "\r",
        "|###-------| 52899/135226  39% [elapsed: 01:23 left: 02:09, 635.89 iters/sec]"
       ]
      },
      {
       "output_type": "stream",
       "stream": "stdout",
       "text": [
        "\r",
        "|###-------| 53151/135226  39% [elapsed: 01:23 left: 02:09, 635.04 iters/sec]"
       ]
      },
      {
       "output_type": "stream",
       "stream": "stdout",
       "text": [
        "\r",
        "|###-------| 53444/135226  39% [elapsed: 01:24 left: 02:08, 634.75 iters/sec]"
       ]
      },
      {
       "output_type": "stream",
       "stream": "stdout",
       "text": [
        "\r",
        "|###-------| 53716/135226  39% [elapsed: 01:24 left: 02:08, 634.18 iters/sec]"
       ]
      },
      {
       "output_type": "stream",
       "stream": "stdout",
       "text": [
        "\r",
        "|###-------| 54001/135226  39% [elapsed: 01:25 left: 02:08, 633.71 iters/sec]"
       ]
      },
      {
       "output_type": "stream",
       "stream": "stdout",
       "text": [
        "\r",
        "|####------| 54294/135226  40% [elapsed: 01:25 left: 02:07, 633.43 iters/sec]"
       ]
      },
      {
       "output_type": "stream",
       "stream": "stdout",
       "text": [
        "\r",
        "|####------| 54575/135226  40% [elapsed: 01:26 left: 02:07, 633.02 iters/sec]"
       ]
      },
      {
       "output_type": "stream",
       "stream": "stdout",
       "text": [
        "\r",
        "|####------| 54859/135226  40% [elapsed: 01:26 left: 02:07, 632.64 iters/sec]"
       ]
      },
      {
       "output_type": "stream",
       "stream": "stdout",
       "text": [
        "\r",
        "|####------| 55126/135226  40% [elapsed: 01:27 left: 02:06, 632.07 iters/sec]"
       ]
      },
      {
       "output_type": "stream",
       "stream": "stdout",
       "text": [
        "\r",
        "|####------| 55420/135226  40% [elapsed: 01:27 left: 02:06, 631.78 iters/sec]"
       ]
      },
      {
       "output_type": "stream",
       "stream": "stdout",
       "text": [
        "\r",
        "|####------| 55687/135226  41% [elapsed: 01:28 left: 02:06, 631.21 iters/sec]"
       ]
      },
      {
       "output_type": "stream",
       "stream": "stdout",
       "text": [
        "\r",
        "|####------| 55951/135226  41% [elapsed: 01:28 left: 02:05, 630.53 iters/sec]"
       ]
      },
      {
       "output_type": "stream",
       "stream": "stdout",
       "text": [
        "\r",
        "|####------| 56235/135226  41% [elapsed: 01:29 left: 02:05, 630.17 iters/sec]"
       ]
      },
      {
       "output_type": "stream",
       "stream": "stdout",
       "text": [
        "\r",
        "|####------| 56517/135226  41% [elapsed: 01:29 left: 02:04, 629.80 iters/sec]"
       ]
      },
      {
       "output_type": "stream",
       "stream": "stdout",
       "text": [
        "\r",
        "|####------| 56802/135226  42% [elapsed: 01:30 left: 02:04, 629.47 iters/sec]"
       ]
      },
      {
       "output_type": "stream",
       "stream": "stdout",
       "text": [
        "\r",
        "|####------| 57101/135226  42% [elapsed: 01:30 left: 02:04, 629.11 iters/sec]"
       ]
      },
      {
       "output_type": "stream",
       "stream": "stdout",
       "text": [
        "\r",
        "|####------| 57401/135226  42% [elapsed: 01:31 left: 02:03, 628.90 iters/sec]"
       ]
      },
      {
       "output_type": "stream",
       "stream": "stdout",
       "text": [
        "\r",
        "|####------| 57675/135226  42% [elapsed: 01:31 left: 02:03, 628.46 iters/sec]"
       ]
      },
      {
       "output_type": "stream",
       "stream": "stdout",
       "text": [
        "\r",
        "|####------| 57939/135226  42% [elapsed: 01:32 left: 02:03, 627.89 iters/sec]"
       ]
      },
      {
       "output_type": "stream",
       "stream": "stdout",
       "text": [
        "\r",
        "|####------| 58201/135226  43% [elapsed: 01:32 left: 02:02, 627.29 iters/sec]"
       ]
      },
      {
       "output_type": "stream",
       "stream": "stdout",
       "text": [
        "\r",
        "|####------| 58466/135226  43% [elapsed: 01:33 left: 02:02, 626.73 iters/sec]"
       ]
      },
      {
       "output_type": "stream",
       "stream": "stdout",
       "text": [
        "\r",
        "|####------| 58736/135226  43% [elapsed: 01:33 left: 02:02, 626.23 iters/sec]"
       ]
      },
      {
       "output_type": "stream",
       "stream": "stdout",
       "text": [
        "\r",
        "|####------| 59001/135226  43% [elapsed: 01:34 left: 02:01, 625.66 iters/sec]"
       ]
      },
      {
       "output_type": "stream",
       "stream": "stdout",
       "text": [
        "\r",
        "|####------| 59277/135226  43% [elapsed: 01:34 left: 02:01, 625.24 iters/sec]"
       ]
      },
      {
       "output_type": "stream",
       "stream": "stdout",
       "text": [
        "\r",
        "|####------| 59551/135226  44% [elapsed: 01:35 left: 02:01, 624.70 iters/sec]"
       ]
      },
      {
       "output_type": "stream",
       "stream": "stdout",
       "text": [
        "\r",
        "|####------| 59821/135226  44% [elapsed: 01:35 left: 02:00, 624.25 iters/sec]"
       ]
      },
      {
       "output_type": "stream",
       "stream": "stdout",
       "text": [
        "\r",
        "|####------| 60071/135226  44% [elapsed: 01:36 left: 02:00, 623.58 iters/sec]"
       ]
      },
      {
       "output_type": "stream",
       "stream": "stdout",
       "text": [
        "\r",
        "|####------| 60351/135226  44% [elapsed: 01:36 left: 02:00, 623.18 iters/sec]"
       ]
      },
      {
       "output_type": "stream",
       "stream": "stdout",
       "text": [
        "\r",
        "|####------| 60649/135226  44% [elapsed: 01:37 left: 01:59, 623.03 iters/sec]"
       ]
      },
      {
       "output_type": "stream",
       "stream": "stdout",
       "text": [
        "\r",
        "|####------| 60951/135226  45% [elapsed: 01:37 left: 01:59, 622.82 iters/sec]"
       ]
      },
      {
       "output_type": "stream",
       "stream": "stdout",
       "text": [
        "\r",
        "|####------| 61245/135226  45% [elapsed: 01:38 left: 01:58, 622.63 iters/sec]"
       ]
      },
      {
       "output_type": "stream",
       "stream": "stdout",
       "text": [
        "\r",
        "|####------| 61533/135226  45% [elapsed: 01:38 left: 01:58, 622.37 iters/sec]"
       ]
      },
      {
       "output_type": "stream",
       "stream": "stdout",
       "text": [
        "\r",
        "|####------| 61801/135226  45% [elapsed: 01:39 left: 01:58, 621.93 iters/sec]"
       ]
      },
      {
       "output_type": "stream",
       "stream": "stdout",
       "text": [
        "\r",
        "|####------| 62089/135226  45% [elapsed: 01:39 left: 01:57, 621.69 iters/sec]"
       ]
      },
      {
       "output_type": "stream",
       "stream": "stdout",
       "text": [
        "\r",
        "|####------| 62372/135226  46% [elapsed: 01:40 left: 01:57, 621.40 iters/sec]"
       ]
      },
      {
       "output_type": "stream",
       "stream": "stdout",
       "text": [
        "\r",
        "|####------| 62651/135226  46% [elapsed: 01:40 left: 01:56, 621.07 iters/sec]"
       ]
      },
      {
       "output_type": "stream",
       "stream": "stdout",
       "text": [
        "\r",
        "|####------| 62943/135226  46% [elapsed: 01:41 left: 01:56, 620.85 iters/sec]"
       ]
      },
      {
       "output_type": "stream",
       "stream": "stdout",
       "text": [
        "\r",
        "|####------| 63238/135226  46% [elapsed: 01:41 left: 01:55, 620.68 iters/sec]"
       ]
      },
      {
       "output_type": "stream",
       "stream": "stdout",
       "text": [
        "\r",
        "|####------| 63535/135226  46% [elapsed: 01:42 left: 01:55, 620.52 iters/sec]"
       ]
      },
      {
       "output_type": "stream",
       "stream": "stdout",
       "text": [
        "\r",
        "|####------| 63820/135226  47% [elapsed: 01:42 left: 01:55, 620.28 iters/sec]"
       ]
      },
      {
       "output_type": "stream",
       "stream": "stdout",
       "text": [
        "\r",
        "|####------| 64101/135226  47% [elapsed: 01:43 left: 01:54, 619.93 iters/sec]"
       ]
      },
      {
       "output_type": "stream",
       "stream": "stdout",
       "text": [
        "\r",
        "|####------| 64424/135226  47% [elapsed: 01:43 left: 01:54, 620.04 iters/sec]"
       ]
      },
      {
       "output_type": "stream",
       "stream": "stdout",
       "text": [
        "\r",
        "|####------| 64710/135226  47% [elapsed: 01:44 left: 01:53, 619.78 iters/sec]"
       ]
      },
      {
       "output_type": "stream",
       "stream": "stdout",
       "text": [
        "\r",
        "|####------| 64998/135226  48% [elapsed: 01:44 left: 01:53, 619.57 iters/sec]"
       ]
      },
      {
       "output_type": "stream",
       "stream": "stdout",
       "text": [
        "\r",
        "|####------| 65275/135226  48% [elapsed: 01:45 left: 01:52, 619.24 iters/sec]"
       ]
      },
      {
       "output_type": "stream",
       "stream": "stdout",
       "text": [
        "\r",
        "|####------| 65558/135226  48% [elapsed: 01:45 left: 01:52, 618.96 iters/sec]"
       ]
      },
      {
       "output_type": "stream",
       "stream": "stdout",
       "text": [
        "\r",
        "|####------| 65838/135226  48% [elapsed: 01:46 left: 01:52, 618.68 iters/sec]"
       ]
      },
      {
       "output_type": "stream",
       "stream": "stdout",
       "text": [
        "\r",
        "|####------| 66118/135226  48% [elapsed: 01:46 left: 01:51, 618.40 iters/sec]"
       ]
      },
      {
       "output_type": "stream",
       "stream": "stdout",
       "text": [
        "\r",
        "|####------| 66401/135226  49% [elapsed: 01:47 left: 01:51, 618.10 iters/sec]"
       ]
      },
      {
       "output_type": "stream",
       "stream": "stdout",
       "text": [
        "\r",
        "|####------| 66694/135226  49% [elapsed: 01:47 left: 01:50, 617.93 iters/sec]"
       ]
      },
      {
       "output_type": "stream",
       "stream": "stdout",
       "text": [
        "\r",
        "|####------| 66985/135226  49% [elapsed: 01:48 left: 01:50, 617.76 iters/sec]"
       ]
      },
      {
       "output_type": "stream",
       "stream": "stdout",
       "text": [
        "\r",
        "|####------| 67274/135226  49% [elapsed: 01:48 left: 01:50, 617.56 iters/sec]"
       ]
      },
      {
       "output_type": "stream",
       "stream": "stdout",
       "text": [
        "\r",
        "|####------| 67551/135226  49% [elapsed: 01:49 left: 01:49, 617.17 iters/sec]"
       ]
      },
      {
       "output_type": "stream",
       "stream": "stdout",
       "text": [
        "\r",
        "|#####-----| 67851/135226  50% [elapsed: 01:49 left: 01:49, 616.99 iters/sec]"
       ]
      },
      {
       "output_type": "stream",
       "stream": "stdout",
       "text": [
        "\r",
        "|#####-----| 68128/135226  50% [elapsed: 01:50 left: 01:48, 616.70 iters/sec]"
       ]
      },
      {
       "output_type": "stream",
       "stream": "stdout",
       "text": [
        "\r",
        "|#####-----| 68401/135226  50% [elapsed: 01:50 left: 01:48, 616.29 iters/sec]"
       ]
      },
      {
       "output_type": "stream",
       "stream": "stdout",
       "text": [
        "\r",
        "|#####-----| 68688/135226  50% [elapsed: 01:51 left: 01:48, 616.09 iters/sec]"
       ]
      },
      {
       "output_type": "stream",
       "stream": "stdout",
       "text": [
        "\r",
        "|#####-----| 68899/135226  50% [elapsed: 01:51 left: 01:47, 615.22 iters/sec]"
       ]
      },
      {
       "output_type": "stream",
       "stream": "stdout",
       "text": [
        "\r",
        "|#####-----| 69288/135226  51% [elapsed: 01:52 left: 01:47, 615.93 iters/sec]"
       ]
      },
      {
       "output_type": "stream",
       "stream": "stdout",
       "text": [
        "\r",
        "|#####-----| 69651/135226  51% [elapsed: 01:52 left: 01:46, 616.41 iters/sec]"
       ]
      },
      {
       "output_type": "stream",
       "stream": "stdout",
       "text": [
        "\r",
        "|#####-----| 69982/135226  51% [elapsed: 01:53 left: 01:45, 616.61 iters/sec]"
       ]
      },
      {
       "output_type": "stream",
       "stream": "stdout",
       "text": [
        "\r",
        "|#####-----| 70271/135226  51% [elapsed: 01:53 left: 01:45, 616.44 iters/sec]"
       ]
      },
      {
       "output_type": "stream",
       "stream": "stdout",
       "text": [
        "\r",
        "|#####-----| 70501/135226  52% [elapsed: 01:54 left: 01:45, 615.71 iters/sec]"
       ]
      },
      {
       "output_type": "stream",
       "stream": "stdout",
       "text": [
        "\r",
        "|#####-----| 70751/135226  52% [elapsed: 01:55 left: 01:44, 615.01 iters/sec]"
       ]
      },
      {
       "output_type": "stream",
       "stream": "stdout",
       "text": [
        "\r",
        "|#####-----| 71019/135226  52% [elapsed: 01:55 left: 01:44, 614.65 iters/sec]"
       ]
      },
      {
       "output_type": "stream",
       "stream": "stdout",
       "text": [
        "\r",
        "|#####-----| 71287/135226  52% [elapsed: 01:56 left: 01:44, 614.31 iters/sec]"
       ]
      },
      {
       "output_type": "stream",
       "stream": "stdout",
       "text": [
        "\r",
        "|#####-----| 71622/135226  52% [elapsed: 01:56 left: 01:43, 614.53 iters/sec]"
       ]
      },
      {
       "output_type": "stream",
       "stream": "stdout",
       "text": [
        "\r",
        "|#####-----| 72001/135226  53% [elapsed: 01:57 left: 01:42, 615.09 iters/sec]"
       ]
      },
      {
       "output_type": "stream",
       "stream": "stdout",
       "text": [
        "\r",
        "|#####-----| 72395/135226  53% [elapsed: 01:57 left: 01:42, 615.81 iters/sec]"
       ]
      },
      {
       "output_type": "stream",
       "stream": "stdout",
       "text": [
        "\r",
        "|#####-----| 72764/135226  53% [elapsed: 01:58 left: 01:41, 616.31 iters/sec]"
       ]
      },
      {
       "output_type": "stream",
       "stream": "stdout",
       "text": [
        "\r",
        "|#####-----| 73150/135226  54% [elapsed: 01:58 left: 01:40, 616.96 iters/sec]"
       ]
      },
      {
       "output_type": "stream",
       "stream": "stdout",
       "text": [
        "\r",
        "|#####-----| 73501/135226  54% [elapsed: 01:59 left: 01:39, 617.30 iters/sec]"
       ]
      },
      {
       "output_type": "stream",
       "stream": "stdout",
       "text": [
        "\r",
        "|#####-----| 73851/135226  54% [elapsed: 01:59 left: 01:39, 617.61 iters/sec]"
       ]
      },
      {
       "output_type": "stream",
       "stream": "stdout",
       "text": [
        "\r",
        "|#####-----| 74250/135226  54% [elapsed: 02:00 left: 01:38, 618.36 iters/sec]"
       ]
      },
      {
       "output_type": "stream",
       "stream": "stdout",
       "text": [
        "\r",
        "|#####-----| 74565/135226  55% [elapsed: 02:00 left: 01:38, 618.39 iters/sec]"
       ]
      },
      {
       "output_type": "stream",
       "stream": "stdout",
       "text": [
        "\r",
        "|#####-----| 74850/135226  55% [elapsed: 02:01 left: 01:37, 618.16 iters/sec]"
       ]
      },
      {
       "output_type": "stream",
       "stream": "stdout",
       "text": [
        "\r",
        "|#####-----| 75123/135226  55% [elapsed: 02:01 left: 01:37, 617.85 iters/sec]"
       ]
      },
      {
       "output_type": "stream",
       "stream": "stdout",
       "text": [
        "\r",
        "|#####-----| 75377/135226  55% [elapsed: 02:02 left: 01:36, 617.39 iters/sec]"
       ]
      },
      {
       "output_type": "stream",
       "stream": "stdout",
       "text": [
        "\r",
        "|#####-----| 75637/135226  55% [elapsed: 02:02 left: 01:36, 616.95 iters/sec]"
       ]
      },
      {
       "output_type": "stream",
       "stream": "stdout",
       "text": [
        "\r",
        "|#####-----| 75879/135226  56% [elapsed: 02:03 left: 01:36, 616.39 iters/sec]"
       ]
      },
      {
       "output_type": "stream",
       "stream": "stdout",
       "text": [
        "\r",
        "|#####-----| 76151/135226  56% [elapsed: 02:03 left: 01:35, 616.06 iters/sec]"
       ]
      },
      {
       "output_type": "stream",
       "stream": "stdout",
       "text": [
        "\r",
        "|#####-----| 76451/135226  56% [elapsed: 02:04 left: 01:35, 615.95 iters/sec]"
       ]
      },
      {
       "output_type": "stream",
       "stream": "stdout",
       "text": [
        "\r",
        "|#####-----| 76751/135226  56% [elapsed: 02:04 left: 01:34, 615.82 iters/sec]"
       ]
      },
      {
       "output_type": "stream",
       "stream": "stdout",
       "text": [
        "\r",
        "|#####-----| 77151/135226  57% [elapsed: 02:05 left: 01:34, 616.49 iters/sec]"
       ]
      },
      {
       "output_type": "stream",
       "stream": "stdout",
       "text": [
        "\r",
        "|#####-----| 77542/135226  57% [elapsed: 02:05 left: 01:33, 617.14 iters/sec]"
       ]
      },
      {
       "output_type": "stream",
       "stream": "stdout",
       "text": [
        "\r",
        "|#####-----| 77945/135226  57% [elapsed: 02:06 left: 01:32, 617.89 iters/sec]"
       ]
      },
      {
       "output_type": "stream",
       "stream": "stdout",
       "text": [
        "\r",
        "|#####-----| 78347/135226  57% [elapsed: 02:06 left: 01:31, 618.62 iters/sec]"
       ]
      },
      {
       "output_type": "stream",
       "stream": "stdout",
       "text": [
        "\r",
        "|#####-----| 78764/135226  58% [elapsed: 02:07 left: 01:31, 619.47 iters/sec]"
       ]
      },
      {
       "output_type": "stream",
       "stream": "stdout",
       "text": [
        "\r",
        "|#####-----| 79172/135226  58% [elapsed: 02:07 left: 01:30, 620.23 iters/sec]"
       ]
      },
      {
       "output_type": "stream",
       "stream": "stdout",
       "text": [
        "\r",
        "|#####-----| 79576/135226  58% [elapsed: 02:08 left: 01:29, 620.96 iters/sec]"
       ]
      },
      {
       "output_type": "stream",
       "stream": "stdout",
       "text": [
        "\r",
        "|#####-----| 79976/135226  59% [elapsed: 02:08 left: 01:28, 621.66 iters/sec]"
       ]
      },
      {
       "output_type": "stream",
       "stream": "stdout",
       "text": [
        "\r",
        "|#####-----| 80378/135226  59% [elapsed: 02:09 left: 01:28, 622.36 iters/sec]"
       ]
      },
      {
       "output_type": "stream",
       "stream": "stdout",
       "text": [
        "\r",
        "|#####-----| 80645/135226  59% [elapsed: 02:09 left: 01:27, 622.01 iters/sec]"
       ]
      },
      {
       "output_type": "stream",
       "stream": "stdout",
       "text": [
        "\r",
        "|#####-----| 80926/135226  59% [elapsed: 02:10 left: 01:27, 621.78 iters/sec]"
       ]
      },
      {
       "output_type": "stream",
       "stream": "stdout",
       "text": [
        "\r",
        "|######----| 81201/135226  60% [elapsed: 02:10 left: 01:26, 621.39 iters/sec]"
       ]
      },
      {
       "output_type": "stream",
       "stream": "stdout",
       "text": [
        "\r",
        "|######----| 81483/135226  60% [elapsed: 02:11 left: 01:26, 621.17 iters/sec]"
       ]
      },
      {
       "output_type": "stream",
       "stream": "stdout",
       "text": [
        "\r",
        "|######----| 81751/135226  60% [elapsed: 02:11 left: 01:26, 620.80 iters/sec]"
       ]
      },
      {
       "output_type": "stream",
       "stream": "stdout",
       "text": [
        "\r",
        "|######----| 82033/135226  60% [elapsed: 02:12 left: 01:25, 620.58 iters/sec]"
       ]
      },
      {
       "output_type": "stream",
       "stream": "stdout",
       "text": [
        "\r",
        "|######----| 82351/135226  60% [elapsed: 02:12 left: 01:25, 620.54 iters/sec]"
       ]
      },
      {
       "output_type": "stream",
       "stream": "stdout",
       "text": [
        "\r",
        "|######----| 82751/135226  61% [elapsed: 02:13 left: 01:24, 621.18 iters/sec]"
       ]
      },
      {
       "output_type": "stream",
       "stream": "stdout",
       "text": [
        "\r",
        "|######----| 83130/135226  61% [elapsed: 02:13 left: 01:23, 621.68 iters/sec]"
       ]
      },
      {
       "output_type": "stream",
       "stream": "stdout",
       "text": [
        "\r",
        "|######----| 83522/135226  61% [elapsed: 02:14 left: 01:23, 622.28 iters/sec]"
       ]
      },
      {
       "output_type": "stream",
       "stream": "stdout",
       "text": [
        "\r",
        "|######----| 83914/135226  62% [elapsed: 02:14 left: 01:22, 622.87 iters/sec]"
       ]
      },
      {
       "output_type": "stream",
       "stream": "stdout",
       "text": [
        "\r",
        "|######----| 84326/135226  62% [elapsed: 02:15 left: 01:21, 623.60 iters/sec]"
       ]
      },
      {
       "output_type": "stream",
       "stream": "stdout",
       "text": [
        "\r",
        "|######----| 84714/135226  62% [elapsed: 02:15 left: 01:20, 624.15 iters/sec]"
       ]
      },
      {
       "output_type": "stream",
       "stream": "stdout",
       "text": [
        "\r",
        "|######----| 85101/135226  62% [elapsed: 02:16 left: 01:20, 624.67 iters/sec]"
       ]
      },
      {
       "output_type": "stream",
       "stream": "stdout",
       "text": [
        "\r",
        "|######----| 85401/135226  63% [elapsed: 02:16 left: 01:19, 624.55 iters/sec]"
       ]
      },
      {
       "output_type": "stream",
       "stream": "stdout",
       "text": [
        "\r",
        "|######----| 85661/135226  63% [elapsed: 02:17 left: 01:19, 624.16 iters/sec]"
       ]
      },
      {
       "output_type": "stream",
       "stream": "stdout",
       "text": [
        "\r",
        "|######----| 85935/135226  63% [elapsed: 02:17 left: 01:19, 623.86 iters/sec]"
       ]
      },
      {
       "output_type": "stream",
       "stream": "stdout",
       "text": [
        "\r",
        "|######----| 86201/135226  63% [elapsed: 02:18 left: 01:18, 623.43 iters/sec]"
       ]
      },
      {
       "output_type": "stream",
       "stream": "stdout",
       "text": [
        "\r",
        "|######----| 86489/135226  63% [elapsed: 02:18 left: 01:18, 623.25 iters/sec]"
       ]
      },
      {
       "output_type": "stream",
       "stream": "stdout",
       "text": [
        "\r",
        "|######----| 86752/135226  64% [elapsed: 02:19 left: 01:17, 622.90 iters/sec]"
       ]
      },
      {
       "output_type": "stream",
       "stream": "stdout",
       "text": [
        "\r",
        "|######----| 87025/135226  64% [elapsed: 02:19 left: 01:17, 622.60 iters/sec]"
       ]
      },
      {
       "output_type": "stream",
       "stream": "stdout",
       "text": [
        "\r",
        "|######----| 87314/135226  64% [elapsed: 02:20 left: 01:16, 622.44 iters/sec]"
       ]
      },
      {
       "output_type": "stream",
       "stream": "stdout",
       "text": [
        "\r",
        "|######----| 87689/135226  64% [elapsed: 02:20 left: 01:16, 622.89 iters/sec]"
       ]
      },
      {
       "output_type": "stream",
       "stream": "stdout",
       "text": [
        "\r",
        "|######----| 88086/135226  65% [elapsed: 02:21 left: 01:15, 623.49 iters/sec]"
       ]
      },
      {
       "output_type": "stream",
       "stream": "stdout",
       "text": [
        "\r",
        "|######----| 88484/135226  65% [elapsed: 02:21 left: 01:14, 624.08 iters/sec]"
       ]
      },
      {
       "output_type": "stream",
       "stream": "stdout",
       "text": [
        "\r",
        "|######----| 88880/135226  65% [elapsed: 02:22 left: 01:14, 624.67 iters/sec]"
       ]
      },
      {
       "output_type": "stream",
       "stream": "stdout",
       "text": [
        "\r",
        "|######----| 89251/135226  66% [elapsed: 02:22 left: 01:13, 625.03 iters/sec]"
       ]
      },
      {
       "output_type": "stream",
       "stream": "stdout",
       "text": [
        "\r",
        "|######----| 89664/135226  66% [elapsed: 02:23 left: 01:12, 625.73 iters/sec]"
       ]
      },
      {
       "output_type": "stream",
       "stream": "stdout",
       "text": [
        "\r",
        "|######----| 89994/135226  66% [elapsed: 02:23 left: 01:12, 625.84 iters/sec]"
       ]
      },
      {
       "output_type": "stream",
       "stream": "stdout",
       "text": [
        "\r",
        "|######----| 90280/135226  66% [elapsed: 02:24 left: 01:11, 625.65 iters/sec]"
       ]
      },
      {
       "output_type": "stream",
       "stream": "stdout",
       "text": [
        "\r",
        "|######----| 90562/135226  66% [elapsed: 02:24 left: 01:11, 625.42 iters/sec]"
       ]
      },
      {
       "output_type": "stream",
       "stream": "stdout",
       "text": [
        "\r",
        "|######----| 90863/135226  67% [elapsed: 02:25 left: 01:10, 625.34 iters/sec]"
       ]
      },
      {
       "output_type": "stream",
       "stream": "stdout",
       "text": [
        "\r",
        "|######----| 91151/135226  67% [elapsed: 02:25 left: 01:10, 625.14 iters/sec]"
       ]
      },
      {
       "output_type": "stream",
       "stream": "stdout",
       "text": [
        "\r",
        "|######----| 91451/135226  67% [elapsed: 02:26 left: 01:10, 625.01 iters/sec]"
       ]
      },
      {
       "output_type": "stream",
       "stream": "stdout",
       "text": [
        "\r",
        "|######----| 91748/135226  67% [elapsed: 02:26 left: 01:09, 624.90 iters/sec]"
       ]
      },
      {
       "output_type": "stream",
       "stream": "stdout",
       "text": [
        "\r",
        "|######----| 92048/135226  68% [elapsed: 02:27 left: 01:09, 624.81 iters/sec]"
       ]
      },
      {
       "output_type": "stream",
       "stream": "stdout",
       "text": [
        "\r",
        "|######----| 92417/135226  68% [elapsed: 02:27 left: 01:08, 625.18 iters/sec]"
       ]
      },
      {
       "output_type": "stream",
       "stream": "stdout",
       "text": [
        "\r",
        "|######----| 92813/135226  68% [elapsed: 02:28 left: 01:07, 625.74 iters/sec]"
       ]
      },
      {
       "output_type": "stream",
       "stream": "stdout",
       "text": [
        "\r",
        "|######----| 93217/135226  68% [elapsed: 02:28 left: 01:07, 626.35 iters/sec]"
       ]
      },
      {
       "output_type": "stream",
       "stream": "stdout",
       "text": [
        "\r",
        "|######----| 93618/135226  69% [elapsed: 02:29 left: 01:06, 626.93 iters/sec]"
       ]
      },
      {
       "output_type": "stream",
       "stream": "stdout",
       "text": [
        "\r",
        "|######----| 94018/135226  69% [elapsed: 02:29 left: 01:05, 627.50 iters/sec]"
       ]
      },
      {
       "output_type": "stream",
       "stream": "stdout",
       "text": [
        "\r",
        "|######----| 94414/135226  69% [elapsed: 02:30 left: 01:04, 628.03 iters/sec]"
       ]
      },
      {
       "output_type": "stream",
       "stream": "stdout",
       "text": [
        "\r",
        "|#######---| 94795/135226  70% [elapsed: 02:30 left: 01:04, 628.46 iters/sec]"
       ]
      },
      {
       "output_type": "stream",
       "stream": "stdout",
       "text": [
        "\r",
        "|#######---| 95101/135226  70% [elapsed: 02:31 left: 01:03, 628.39 iters/sec]"
       ]
      },
      {
       "output_type": "stream",
       "stream": "stdout",
       "text": [
        "\r",
        "|#######---| 95371/135226  70% [elapsed: 02:31 left: 01:03, 628.10 iters/sec]"
       ]
      },
      {
       "output_type": "stream",
       "stream": "stdout",
       "text": [
        "\r",
        "|#######---| 95624/135226  70% [elapsed: 02:32 left: 01:03, 627.68 iters/sec]"
       ]
      },
      {
       "output_type": "stream",
       "stream": "stdout",
       "text": [
        "\r",
        "|#######---| 95887/135226  70% [elapsed: 02:32 left: 01:02, 627.33 iters/sec]"
       ]
      },
      {
       "output_type": "stream",
       "stream": "stdout",
       "text": [
        "\r",
        "|#######---| 96167/135226  71% [elapsed: 02:33 left: 01:02, 627.10 iters/sec]"
       ]
      },
      {
       "output_type": "stream",
       "stream": "stdout",
       "text": [
        "\r",
        "|#######---| 96446/135226  71% [elapsed: 02:33 left: 01:01, 626.86 iters/sec]"
       ]
      },
      {
       "output_type": "stream",
       "stream": "stdout",
       "text": [
        "\r",
        "|#######---| 96729/135226  71% [elapsed: 02:34 left: 01:01, 626.65 iters/sec]"
       ]
      },
      {
       "output_type": "stream",
       "stream": "stdout",
       "text": [
        "\r",
        "|#######---| 97080/135226  71% [elapsed: 02:34 left: 01:00, 626.88 iters/sec]"
       ]
      },
      {
       "output_type": "stream",
       "stream": "stdout",
       "text": [
        "\r",
        "|#######---| 97469/135226  72% [elapsed: 02:35 left: 01:00, 627.36 iters/sec]"
       ]
      },
      {
       "output_type": "stream",
       "stream": "stdout",
       "text": [
        "\r",
        "|#######---| 97868/135226  72% [elapsed: 02:35 left: 00:59, 627.90 iters/sec]"
       ]
      },
      {
       "output_type": "stream",
       "stream": "stdout",
       "text": [
        "\r",
        "|#######---| 98260/135226  72% [elapsed: 02:36 left: 00:58, 628.40 iters/sec]"
       ]
      },
      {
       "output_type": "stream",
       "stream": "stdout",
       "text": [
        "\r",
        "|#######---| 98545/135226  72% [elapsed: 02:36 left: 00:58, 628.20 iters/sec]"
       ]
      },
      {
       "output_type": "stream",
       "stream": "stdout",
       "text": [
        "\r",
        "|#######---| 98817/135226  73% [elapsed: 02:37 left: 00:57, 627.91 iters/sec]"
       ]
      },
      {
       "output_type": "stream",
       "stream": "stdout",
       "text": [
        "\r",
        "|#######---| 99087/135226  73% [elapsed: 02:37 left: 00:57, 627.64 iters/sec]"
       ]
      },
      {
       "output_type": "stream",
       "stream": "stdout",
       "text": [
        "\r",
        "|#######---| 99355/135226  73% [elapsed: 02:38 left: 00:57, 627.34 iters/sec]"
       ]
      },
      {
       "output_type": "stream",
       "stream": "stdout",
       "text": [
        "\r",
        "|#######---| 99624/135226  73% [elapsed: 02:38 left: 00:56, 627.05 iters/sec]"
       ]
      },
      {
       "output_type": "stream",
       "stream": "stdout",
       "text": [
        "\r",
        "|#######---| 99895/135226  73% [elapsed: 02:39 left: 00:56, 626.78 iters/sec]"
       ]
      },
      {
       "output_type": "stream",
       "stream": "stdout",
       "text": [
        "\r",
        "|#######---| 100149/135226  74% [elapsed: 02:39 left: 00:55, 626.41 iters/sec]"
       ]
      },
      {
       "output_type": "stream",
       "stream": "stdout",
       "text": [
        "\r",
        "|#######---| 100491/135226  74% [elapsed: 02:40 left: 00:55, 626.57 iters/sec]"
       ]
      },
      {
       "output_type": "stream",
       "stream": "stdout",
       "text": [
        "\r",
        "|#######---| 100872/135226  74% [elapsed: 02:40 left: 00:54, 626.98 iters/sec]"
       ]
      },
      {
       "output_type": "stream",
       "stream": "stdout",
       "text": [
        "\r",
        "|#######---| 101280/135226  74% [elapsed: 02:41 left: 00:54, 627.56 iters/sec]"
       ]
      },
      {
       "output_type": "stream",
       "stream": "stdout",
       "text": [
        "\r",
        "|#######---| 101654/135226  75% [elapsed: 02:41 left: 00:53, 627.93 iters/sec]"
       ]
      },
      {
       "output_type": "stream",
       "stream": "stdout",
       "text": [
        "\r",
        "|#######---| 101933/135226  75% [elapsed: 02:42 left: 00:53, 627.70 iters/sec]"
       ]
      },
      {
       "output_type": "stream",
       "stream": "stdout",
       "text": [
        "\r",
        "|#######---| 102201/135226  75% [elapsed: 02:42 left: 00:52, 627.37 iters/sec]"
       ]
      },
      {
       "output_type": "stream",
       "stream": "stdout",
       "text": [
        "\r",
        "|#######---| 102484/135226  75% [elapsed: 02:43 left: 00:52, 627.18 iters/sec]"
       ]
      },
      {
       "output_type": "stream",
       "stream": "stdout",
       "text": [
        "\r",
        "|#######---| 102751/135226  75% [elapsed: 02:43 left: 00:51, 626.82 iters/sec]"
       ]
      },
      {
       "output_type": "stream",
       "stream": "stdout",
       "text": [
        "\r",
        "|#######---| 103001/135226  76% [elapsed: 02:44 left: 00:51, 626.42 iters/sec]"
       ]
      },
      {
       "output_type": "stream",
       "stream": "stdout",
       "text": [
        "\r",
        "|#######---| 103266/135226  76% [elapsed: 02:44 left: 00:51, 626.13 iters/sec]"
       ]
      },
      {
       "output_type": "stream",
       "stream": "stdout",
       "text": [
        "\r",
        "|#######---| 103584/135226  76% [elapsed: 02:45 left: 00:50, 626.14 iters/sec]"
       ]
      },
      {
       "output_type": "stream",
       "stream": "stdout",
       "text": [
        "\r",
        "|#######---| 103987/135226  76% [elapsed: 02:45 left: 00:49, 626.69 iters/sec]"
       ]
      },
      {
       "output_type": "stream",
       "stream": "stdout",
       "text": [
        "\r",
        "|#######---| 104351/135226  77% [elapsed: 02:46 left: 00:49, 626.97 iters/sec]"
       ]
      },
      {
       "output_type": "stream",
       "stream": "stdout",
       "text": [
        "\r",
        "|#######---| 104751/135226  77% [elapsed: 02:46 left: 00:48, 627.45 iters/sec]"
       ]
      },
      {
       "output_type": "stream",
       "stream": "stdout",
       "text": [
        "\r",
        "|#######---| 105151/135226  77% [elapsed: 02:47 left: 00:47, 627.96 iters/sec]"
       ]
      },
      {
       "output_type": "stream",
       "stream": "stdout",
       "text": [
        "\r",
        "|#######---| 105551/135226  78% [elapsed: 02:47 left: 00:47, 628.40 iters/sec]"
       ]
      },
      {
       "output_type": "stream",
       "stream": "stdout",
       "text": [
        "\r",
        "|#######---| 105951/135226  78% [elapsed: 02:48 left: 00:46, 628.86 iters/sec]"
       ]
      },
      {
       "output_type": "stream",
       "stream": "stdout",
       "text": [
        "\r",
        "|#######---| 106301/135226  78% [elapsed: 02:49 left: 00:45, 628.99 iters/sec]"
       ]
      },
      {
       "output_type": "stream",
       "stream": "stdout",
       "text": [
        "\r",
        "|#######---| 106617/135226  78% [elapsed: 02:49 left: 00:45, 628.99 iters/sec]"
       ]
      },
      {
       "output_type": "stream",
       "stream": "stdout",
       "text": [
        "\r",
        "|#######---| 106887/135226  79% [elapsed: 02:50 left: 00:45, 628.71 iters/sec]"
       ]
      },
      {
       "output_type": "stream",
       "stream": "stdout",
       "text": [
        "\r",
        "|#######---| 107172/135226  79% [elapsed: 02:50 left: 00:44, 628.53 iters/sec]"
       ]
      },
      {
       "output_type": "stream",
       "stream": "stdout",
       "text": [
        "\r",
        "|#######---| 107451/135226  79% [elapsed: 02:51 left: 00:44, 628.29 iters/sec]"
       ]
      },
      {
       "output_type": "stream",
       "stream": "stdout",
       "text": [
        "\r",
        "|#######---| 107751/135226  79% [elapsed: 02:51 left: 00:43, 628.14 iters/sec]"
       ]
      },
      {
       "output_type": "stream",
       "stream": "stdout",
       "text": [
        "\r",
        "|#######---| 108051/135226  79% [elapsed: 02:52 left: 00:43, 628.04 iters/sec]"
       ]
      },
      {
       "output_type": "stream",
       "stream": "stdout",
       "text": [
        "\r",
        "|########--| 108356/135226  80% [elapsed: 02:52 left: 00:42, 627.97 iters/sec]"
       ]
      },
      {
       "output_type": "stream",
       "stream": "stdout",
       "text": [
        "\r",
        "|########--| 108751/135226  80% [elapsed: 02:53 left: 00:42, 628.43 iters/sec]"
       ]
      },
      {
       "output_type": "stream",
       "stream": "stdout",
       "text": [
        "\r",
        "|########--| 109151/135226  80% [elapsed: 02:53 left: 00:41, 628.87 iters/sec]"
       ]
      },
      {
       "output_type": "stream",
       "stream": "stdout",
       "text": [
        "\r",
        "|########--| 109568/135226  81% [elapsed: 02:54 left: 00:40, 629.45 iters/sec]"
       ]
      },
      {
       "output_type": "stream",
       "stream": "stdout",
       "text": [
        "\r",
        "|########--| 109983/135226  81% [elapsed: 02:54 left: 00:40, 630.02 iters/sec]"
       ]
      },
      {
       "output_type": "stream",
       "stream": "stdout",
       "text": [
        "\r",
        "|########--| 110388/135226  81% [elapsed: 02:55 left: 00:39, 630.53 iters/sec]"
       ]
      },
      {
       "output_type": "stream",
       "stream": "stdout",
       "text": [
        "\r",
        "|########--| 110764/135226  81% [elapsed: 02:55 left: 00:38, 630.88 iters/sec]"
       ]
      },
      {
       "output_type": "stream",
       "stream": "stdout",
       "text": [
        "\r",
        "|########--| 111045/135226  82% [elapsed: 02:56 left: 00:38, 630.67 iters/sec]"
       ]
      },
      {
       "output_type": "stream",
       "stream": "stdout",
       "text": [
        "\r",
        "|########--| 111324/135226  82% [elapsed: 02:56 left: 00:37, 630.46 iters/sec]"
       ]
      },
      {
       "output_type": "stream",
       "stream": "stdout",
       "text": [
        "\r",
        "|########--| 111601/135226  82% [elapsed: 02:57 left: 00:37, 630.20 iters/sec]"
       ]
      },
      {
       "output_type": "stream",
       "stream": "stdout",
       "text": [
        "\r",
        "|########--| 111899/135226  82% [elapsed: 02:57 left: 00:37, 630.09 iters/sec]"
       ]
      },
      {
       "output_type": "stream",
       "stream": "stdout",
       "text": [
        "\r",
        "|########--| 112175/135226  82% [elapsed: 02:58 left: 00:36, 629.85 iters/sec]"
       ]
      },
      {
       "output_type": "stream",
       "stream": "stdout",
       "text": [
        "\r",
        "|########--| 112460/135226  83% [elapsed: 02:58 left: 00:36, 629.68 iters/sec]"
       ]
      },
      {
       "output_type": "stream",
       "stream": "stdout",
       "text": [
        "\r",
        "|########--| 112760/135226  83% [elapsed: 02:59 left: 00:35, 629.60 iters/sec]"
       ]
      },
      {
       "output_type": "stream",
       "stream": "stdout",
       "text": [
        "\r",
        "|########--| 113115/135226  83% [elapsed: 02:59 left: 00:35, 629.81 iters/sec]"
       ]
      },
      {
       "output_type": "stream",
       "stream": "stdout",
       "text": [
        "\r",
        "|########--| 113479/135226  83% [elapsed: 03:00 left: 00:34, 630.07 iters/sec]"
       ]
      },
      {
       "output_type": "stream",
       "stream": "stdout",
       "text": [
        "\r",
        "|########--| 113851/135226  84% [elapsed: 03:00 left: 00:33, 630.35 iters/sec]"
       ]
      },
      {
       "output_type": "stream",
       "stream": "stdout",
       "text": [
        "\r",
        "|########--| 114242/135226  84% [elapsed: 03:01 left: 00:33, 630.77 iters/sec]"
       ]
      },
      {
       "output_type": "stream",
       "stream": "stdout",
       "text": [
        "\r",
        "|########--| 114620/135226  84% [elapsed: 03:01 left: 00:32, 631.11 iters/sec]"
       ]
      },
      {
       "output_type": "stream",
       "stream": "stdout",
       "text": [
        "\r",
        "|########--| 114917/135226  84% [elapsed: 03:02 left: 00:32, 631.00 iters/sec]"
       ]
      },
      {
       "output_type": "stream",
       "stream": "stdout",
       "text": [
        "\r",
        "|########--| 115226/135226  85% [elapsed: 03:02 left: 00:31, 630.96 iters/sec]"
       ]
      },
      {
       "output_type": "stream",
       "stream": "stdout",
       "text": [
        "\r",
        "|########--| 115529/135226  85% [elapsed: 03:03 left: 00:31, 630.88 iters/sec]"
       ]
      },
      {
       "output_type": "stream",
       "stream": "stdout",
       "text": [
        "\r",
        "|########--| 115801/135226  85% [elapsed: 03:03 left: 00:30, 630.64 iters/sec]"
       ]
      },
      {
       "output_type": "stream",
       "stream": "stdout",
       "text": [
        "\r",
        "|########--| 116101/135226  85% [elapsed: 03:04 left: 00:30, 630.49 iters/sec]"
       ]
      },
      {
       "output_type": "stream",
       "stream": "stdout",
       "text": [
        "\r",
        "|########--| 116394/135226  86% [elapsed: 03:04 left: 00:29, 630.36 iters/sec]"
       ]
      },
      {
       "output_type": "stream",
       "stream": "stdout",
       "text": [
        "\r",
        "|########--| 116718/135226  86% [elapsed: 03:05 left: 00:29, 630.40 iters/sec]"
       ]
      },
      {
       "output_type": "stream",
       "stream": "stdout",
       "text": [
        "\r",
        "|########--| 117090/135226  86% [elapsed: 03:05 left: 00:28, 630.70 iters/sec]"
       ]
      },
      {
       "output_type": "stream",
       "stream": "stdout",
       "text": [
        "\r",
        "|########--| 117438/135226  86% [elapsed: 03:06 left: 00:28, 630.88 iters/sec]"
       ]
      },
      {
       "output_type": "stream",
       "stream": "stdout",
       "text": [
        "\r",
        "|########--| 117838/135226  87% [elapsed: 03:06 left: 00:27, 631.32 iters/sec]"
       ]
      },
      {
       "output_type": "stream",
       "stream": "stdout",
       "text": [
        "\r",
        "|########--| 118225/135226  87% [elapsed: 03:07 left: 00:26, 631.70 iters/sec]"
       ]
      },
      {
       "output_type": "stream",
       "stream": "stdout",
       "text": [
        "\r",
        "|########--| 118599/135226  87% [elapsed: 03:07 left: 00:26, 632.00 iters/sec]"
       ]
      },
      {
       "output_type": "stream",
       "stream": "stdout",
       "text": [
        "\r",
        "|########--| 118858/135226  87% [elapsed: 03:08 left: 00:25, 631.69 iters/sec]"
       ]
      },
      {
       "output_type": "stream",
       "stream": "stdout",
       "text": [
        "\r",
        "|########--| 119133/135226  88% [elapsed: 03:08 left: 00:25, 631.47 iters/sec]"
       ]
      },
      {
       "output_type": "stream",
       "stream": "stdout",
       "text": [
        "\r",
        "|########--| 119401/135226  88% [elapsed: 03:09 left: 00:25, 631.16 iters/sec]"
       ]
      },
      {
       "output_type": "stream",
       "stream": "stdout",
       "text": [
        "\r",
        "|########--| 119699/135226  88% [elapsed: 03:09 left: 00:24, 631.06 iters/sec]"
       ]
      },
      {
       "output_type": "stream",
       "stream": "stdout",
       "text": [
        "\r",
        "|########--| 119965/135226  88% [elapsed: 03:10 left: 00:24, 630.80 iters/sec]"
       ]
      },
      {
       "output_type": "stream",
       "stream": "stdout",
       "text": [
        "\r",
        "|########--| 120240/135226  88% [elapsed: 03:10 left: 00:23, 630.58 iters/sec]"
       ]
      },
      {
       "output_type": "stream",
       "stream": "stdout",
       "text": [
        "\r",
        "|########--| 120501/135226  89% [elapsed: 03:11 left: 00:23, 630.25 iters/sec]"
       ]
      },
      {
       "output_type": "stream",
       "stream": "stdout",
       "text": [
        "\r",
        "|########--| 120851/135226  89% [elapsed: 03:11 left: 00:22, 630.42 iters/sec]"
       ]
      },
      {
       "output_type": "stream",
       "stream": "stdout",
       "text": [
        "\r",
        "|########--| 121265/135226  89% [elapsed: 03:12 left: 00:22, 630.93 iters/sec]"
       ]
      },
      {
       "output_type": "stream",
       "stream": "stdout",
       "text": [
        "\r",
        "|########--| 121651/135226  89% [elapsed: 03:12 left: 00:21, 631.23 iters/sec]"
       ]
      },
      {
       "output_type": "stream",
       "stream": "stdout",
       "text": [
        "\r",
        "|#########-| 121945/135226  90% [elapsed: 03:13 left: 00:21, 631.12 iters/sec]"
       ]
      },
      {
       "output_type": "stream",
       "stream": "stdout",
       "text": [
        "\r",
        "|#########-| 122223/135226  90% [elapsed: 03:13 left: 00:20, 630.90 iters/sec]"
       ]
      },
      {
       "output_type": "stream",
       "stream": "stdout",
       "text": [
        "\r",
        "|#########-| 122501/135226  90% [elapsed: 03:14 left: 00:20, 630.65 iters/sec]"
       ]
      },
      {
       "output_type": "stream",
       "stream": "stdout",
       "text": [
        "\r",
        "|#########-| 122768/135226  90% [elapsed: 03:14 left: 00:19, 630.39 iters/sec]"
       ]
      },
      {
       "output_type": "stream",
       "stream": "stdout",
       "text": [
        "\r",
        "|#########-| 123043/135226  90% [elapsed: 03:15 left: 00:19, 630.18 iters/sec]"
       ]
      },
      {
       "output_type": "stream",
       "stream": "stdout",
       "text": [
        "\r",
        "|#########-| 123305/135226  91% [elapsed: 03:15 left: 00:18, 629.90 iters/sec]"
       ]
      },
      {
       "output_type": "stream",
       "stream": "stdout",
       "text": [
        "\r",
        "|#########-| 123575/135226  91% [elapsed: 03:16 left: 00:18, 629.67 iters/sec]"
       ]
      },
      {
       "output_type": "stream",
       "stream": "stdout",
       "text": [
        "\r",
        "|#########-| 123917/135226  91% [elapsed: 03:16 left: 00:17, 629.80 iters/sec]"
       ]
      },
      {
       "output_type": "stream",
       "stream": "stdout",
       "text": [
        "\r",
        "|#########-| 124299/135226  91% [elapsed: 03:17 left: 00:17, 630.13 iters/sec]"
       ]
      },
      {
       "output_type": "stream",
       "stream": "stdout",
       "text": [
        "\r",
        "|#########-| 124668/135226  92% [elapsed: 03:17 left: 00:16, 630.40 iters/sec]"
       ]
      },
      {
       "output_type": "stream",
       "stream": "stdout",
       "text": [
        "\r",
        "|#########-| 125050/135226  92% [elapsed: 03:18 left: 00:16, 630.73 iters/sec]"
       ]
      },
      {
       "output_type": "stream",
       "stream": "stdout",
       "text": [
        "\r",
        "|#########-| 125422/135226  92% [elapsed: 03:18 left: 00:15, 631.01 iters/sec]"
       ]
      },
      {
       "output_type": "stream",
       "stream": "stdout",
       "text": [
        "\r",
        "|#########-| 125799/135226  93% [elapsed: 03:19 left: 00:14, 631.31 iters/sec]"
       ]
      },
      {
       "output_type": "stream",
       "stream": "stdout",
       "text": [
        "\r",
        "|#########-| 126051/135226  93% [elapsed: 03:19 left: 00:14, 630.96 iters/sec]"
       ]
      },
      {
       "output_type": "stream",
       "stream": "stdout",
       "text": [
        "\r",
        "|#########-| 126308/135226  93% [elapsed: 03:20 left: 00:14, 630.67 iters/sec]"
       ]
      },
      {
       "output_type": "stream",
       "stream": "stdout",
       "text": [
        "\r",
        "|#########-| 126566/135226  93% [elapsed: 03:20 left: 00:13, 630.37 iters/sec]"
       ]
      },
      {
       "output_type": "stream",
       "stream": "stdout",
       "text": [
        "\r",
        "|#########-| 126834/135226  93% [elapsed: 03:21 left: 00:13, 630.13 iters/sec]"
       ]
      },
      {
       "output_type": "stream",
       "stream": "stdout",
       "text": [
        "\r",
        "|#########-| 127094/135226  93% [elapsed: 03:21 left: 00:12, 629.85 iters/sec]"
       ]
      },
      {
       "output_type": "stream",
       "stream": "stdout",
       "text": [
        "\r",
        "|#########-| 127422/135226  94% [elapsed: 03:22 left: 00:12, 629.91 iters/sec]"
       ]
      },
      {
       "output_type": "stream",
       "stream": "stdout",
       "text": [
        "\r",
        "|#########-| 127764/135226  94% [elapsed: 03:22 left: 00:11, 630.03 iters/sec]"
       ]
      },
      {
       "output_type": "stream",
       "stream": "stdout",
       "text": [
        "\r",
        "|#########-| 128101/135226  94% [elapsed: 03:23 left: 00:11, 630.12 iters/sec]"
       ]
      },
      {
       "output_type": "stream",
       "stream": "stdout",
       "text": [
        "\r",
        "|#########-| 128426/135226  94% [elapsed: 03:23 left: 00:10, 630.17 iters/sec]"
       ]
      },
      {
       "output_type": "stream",
       "stream": "stdout",
       "text": [
        "\r",
        "|#########-| 128780/135226  95% [elapsed: 03:24 left: 00:10, 630.36 iters/sec]"
       ]
      },
      {
       "output_type": "stream",
       "stream": "stdout",
       "text": [
        "\r",
        "|#########-| 129129/135226  95% [elapsed: 03:24 left: 00:09, 630.52 iters/sec]"
       ]
      },
      {
       "output_type": "stream",
       "stream": "stdout",
       "text": [
        "\r",
        "|#########-| 129491/135226  95% [elapsed: 03:25 left: 00:09, 630.73 iters/sec]"
       ]
      },
      {
       "output_type": "stream",
       "stream": "stdout",
       "text": [
        "\r",
        "|#########-| 129834/135226  96% [elapsed: 03:25 left: 00:08, 630.85 iters/sec]"
       ]
      },
      {
       "output_type": "stream",
       "stream": "stdout",
       "text": [
        "\r",
        "|#########-| 130071/135226  96% [elapsed: 03:26 left: 00:08, 630.46 iters/sec]"
       ]
      },
      {
       "output_type": "stream",
       "stream": "stdout",
       "text": [
        "\r",
        "|#########-| 130308/135226  96% [elapsed: 03:26 left: 00:07, 630.07 iters/sec]"
       ]
      },
      {
       "output_type": "stream",
       "stream": "stdout",
       "text": [
        "\r",
        "|#########-| 130545/135226  96% [elapsed: 03:27 left: 00:07, 629.69 iters/sec]"
       ]
      },
      {
       "output_type": "stream",
       "stream": "stdout",
       "text": [
        "\r",
        "|#########-| 130799/135226  96% [elapsed: 03:27 left: 00:07, 629.39 iters/sec]"
       ]
      },
      {
       "output_type": "stream",
       "stream": "stdout",
       "text": [
        "\r",
        "|#########-| 131040/135226  96% [elapsed: 03:28 left: 00:06, 629.02 iters/sec]"
       ]
      },
      {
       "output_type": "stream",
       "stream": "stdout",
       "text": [
        "\r",
        "|#########-| 131384/135226  97% [elapsed: 03:28 left: 00:06, 629.15 iters/sec]"
       ]
      },
      {
       "output_type": "stream",
       "stream": "stdout",
       "text": [
        "\r",
        "|#########-| 131701/135226  97% [elapsed: 03:29 left: 00:05, 629.12 iters/sec]"
       ]
      },
      {
       "output_type": "stream",
       "stream": "stdout",
       "text": [
        "\r",
        "|#########-| 132050/135226  97% [elapsed: 03:29 left: 00:05, 629.28 iters/sec]"
       ]
      },
      {
       "output_type": "stream",
       "stream": "stdout",
       "text": [
        "\r",
        "|#########-| 132392/135226  97% [elapsed: 03:30 left: 00:04, 629.40 iters/sec]"
       ]
      },
      {
       "output_type": "stream",
       "stream": "stdout",
       "text": [
        "\r",
        "|#########-| 132717/135226  98% [elapsed: 03:30 left: 00:03, 629.42 iters/sec]"
       ]
      },
      {
       "output_type": "stream",
       "stream": "stdout",
       "text": [
        "\r",
        "|#########-| 133072/135226  98% [elapsed: 03:31 left: 00:03, 629.60 iters/sec]"
       ]
      },
      {
       "output_type": "stream",
       "stream": "stdout",
       "text": [
        "\r",
        "|#########-| 133400/135226  98% [elapsed: 03:31 left: 00:02, 629.64 iters/sec]"
       ]
      },
      {
       "output_type": "stream",
       "stream": "stdout",
       "text": [
        "\r",
        "|#########-| 133732/135226  98% [elapsed: 03:32 left: 00:02, 629.72 iters/sec]"
       ]
      },
      {
       "output_type": "stream",
       "stream": "stdout",
       "text": [
        "\r",
        "|#########-| 134070/135226  99% [elapsed: 03:32 left: 00:01, 629.83 iters/sec]"
       ]
      },
      {
       "output_type": "stream",
       "stream": "stdout",
       "text": [
        "\r",
        "|#########-| 134401/135226  99% [elapsed: 03:33 left: 00:01, 629.86 iters/sec]"
       ]
      },
      {
       "output_type": "stream",
       "stream": "stdout",
       "text": [
        "\r",
        "|#########-| 134657/135226  99% [elapsed: 03:33 left: 00:00, 629.59 iters/sec]"
       ]
      },
      {
       "output_type": "stream",
       "stream": "stdout",
       "text": [
        "\r",
        "|#########-| 134934/135226  99% [elapsed: 03:34 left: 00:00, 629.40 iters/sec]"
       ]
      },
      {
       "output_type": "stream",
       "stream": "stdout",
       "text": [
        "\r",
        "                                                                              "
       ]
      },
      {
       "output_type": "stream",
       "stream": "stdout",
       "text": [
        "\r",
        "[MoviePy] Done.\n"
       ]
      }
     ],
     "prompt_number": 35
    },
    {
     "cell_type": "code",
     "collapsed": false,
     "input": [],
     "language": "python",
     "metadata": {},
     "outputs": []
    }
   ],
   "metadata": {}
  }
 ]
}